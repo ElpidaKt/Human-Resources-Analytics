{
  "cells": [
    {
      "cell_type": "markdown",
      "source": [
        "ΚΟΥΤΣΩΝΗ ΕΛΠΙΔΑ-ΜΥΡΤΩ<br>\n",
        "ΑΕΜ: 02900\n"
      ],
      "metadata": {
        "id": "gT2tSBxqAXc0"
      }
    },
    {
      "cell_type": "markdown",
      "metadata": {
        "id": "2Hz8C5aAX_Bk"
      },
      "source": [
        "# Table of Contents\n",
        "\n",
        "* [Approaching Categorical Features](#1)\n",
        "* [Various Approaches to Handle Missing values in Categorical Features](#2)\n",
        "* [k-Nearest Neighbour Imputation](#3)\n",
        "* [Evaluation Metrics](#4)\n",
        "* [Model](#5)\n",
        "* [Learning Curve](#6)\n",
        "* [Oversampling using SMOTE](#7)\n",
        "* [Hyperparameter Tunning](#8)\n",
        "* [Reference](#9)"
      ]
    },
    {
      "cell_type": "markdown",
      "metadata": {
        "id": "zi_xdIRzX_Bl"
      },
      "source": [
        "## Import important libraries and packages"
      ]
    },
    {
      "cell_type": "code",
      "source": [
        "!pip install scikit_optimize"
      ],
      "metadata": {
        "colab": {
          "base_uri": "https://localhost:8080/"
        },
        "id": "ykbbzIx4MHjG",
        "outputId": "328601bf-6f38-4e39-bf6d-9c0e3bef9b80"
      },
      "execution_count": null,
      "outputs": [
        {
          "output_type": "stream",
          "name": "stdout",
          "text": [
            "Looking in indexes: https://pypi.org/simple, https://us-python.pkg.dev/colab-wheels/public/simple/\n",
            "Collecting scikit_optimize\n",
            "  Downloading scikit_optimize-0.9.0-py2.py3-none-any.whl (100 kB)\n",
            "\u001b[K     |████████████████████████████████| 100 kB 2.8 MB/s \n",
            "\u001b[?25hRequirement already satisfied: numpy>=1.13.3 in /usr/local/lib/python3.7/dist-packages (from scikit_optimize) (1.21.6)\n",
            "Requirement already satisfied: scikit-learn>=0.20.0 in /usr/local/lib/python3.7/dist-packages (from scikit_optimize) (1.0.2)\n",
            "Requirement already satisfied: scipy>=0.19.1 in /usr/local/lib/python3.7/dist-packages (from scikit_optimize) (1.7.3)\n",
            "Collecting pyaml>=16.9\n",
            "  Downloading pyaml-21.10.1-py2.py3-none-any.whl (24 kB)\n",
            "Requirement already satisfied: joblib>=0.11 in /usr/local/lib/python3.7/dist-packages (from scikit_optimize) (1.1.0)\n",
            "Requirement already satisfied: PyYAML in /usr/local/lib/python3.7/dist-packages (from pyaml>=16.9->scikit_optimize) (6.0)\n",
            "Requirement already satisfied: threadpoolctl>=2.0.0 in /usr/local/lib/python3.7/dist-packages (from scikit-learn>=0.20.0->scikit_optimize) (3.1.0)\n",
            "Installing collected packages: pyaml, scikit-optimize\n",
            "Successfully installed pyaml-21.10.1 scikit-optimize-0.9.0\n"
          ]
        }
      ]
    },
    {
      "cell_type": "code",
      "execution_count": null,
      "metadata": {
        "id": "eKM73FUsX_Bl"
      },
      "outputs": [],
      "source": [
        "import numpy as np # linear algebra\n",
        "import pandas as pd # data processing, CSV file I/O (e.g. pd.read_csv)\n",
        "import matplotlib.pyplot as plt\n",
        "import seaborn as sns\n",
        "import missingno\n",
        "from sklearn.preprocessing import LabelEncoder, OneHotEncoder\n",
        "from sklearn.impute import KNNImputer\n",
        "from sklearn.metrics import roc_auc_score, roc_curve, accuracy_score, confusion_matrix, log_loss, plot_roc_curve, auc, precision_recall_curve\n",
        "from sklearn.cluster import KMeans\n",
        "from sklearn.model_selection import StratifiedKFold \n",
        "from sklearn.svm import SVC\n",
        "from sklearn.linear_model import LogisticRegression\n",
        "from sklearn.gaussian_process import GaussianProcessClassifier\n",
        "from sklearn.ensemble import RandomForestClassifier\n",
        "%matplotlib inline\n",
        "from xgboost import XGBClassifier\n",
        "from functools import partial\n",
        "from skopt import gp_minimize\n",
        "from skopt import space\n",
        "from skopt.plots import plot_convergence\n",
        "\n",
        "sns.set_style('whitegrid')\n",
        "\n",
        "import warnings\n",
        "warnings.filterwarnings(\"ignore\")"
      ]
    },
    {
      "cell_type": "code",
      "execution_count": null,
      "metadata": {
        "id": "ORp93oJ2X_Bn"
      },
      "outputs": [],
      "source": [
        "df_train = pd.read_csv('aug_train.csv')\n",
        "df_test = pd.read_csv('aug_test.csv')"
      ]
    },
    {
      "cell_type": "code",
      "execution_count": null,
      "metadata": {
        "colab": {
          "base_uri": "https://localhost:8080/",
          "height": 270
        },
        "id": "Ochsv6o7X_Bn",
        "outputId": "b072df4d-679d-40bc-a41b-0e9bdf8ac52a"
      },
      "outputs": [
        {
          "output_type": "execute_result",
          "data": {
            "text/plain": [
              "   enrollee_id      city  city_development_index gender  \\\n",
              "0         8949  city_103                   0.920   Male   \n",
              "1        29725   city_40                   0.776   Male   \n",
              "2        11561   city_21                   0.624    NaN   \n",
              "3        33241  city_115                   0.789    NaN   \n",
              "4          666  city_162                   0.767   Male   \n",
              "\n",
              "       relevent_experience enrolled_university education_level  \\\n",
              "0  Has relevent experience       no_enrollment        Graduate   \n",
              "1   No relevent experience       no_enrollment        Graduate   \n",
              "2   No relevent experience    Full time course        Graduate   \n",
              "3   No relevent experience                 NaN        Graduate   \n",
              "4  Has relevent experience       no_enrollment         Masters   \n",
              "\n",
              "  major_discipline experience company_size    company_type last_new_job  \\\n",
              "0             STEM        >20          NaN             NaN            1   \n",
              "1             STEM         15        50-99         Pvt Ltd           >4   \n",
              "2             STEM          5          NaN             NaN        never   \n",
              "3  Business Degree         <1          NaN         Pvt Ltd        never   \n",
              "4             STEM        >20        50-99  Funded Startup            4   \n",
              "\n",
              "   training_hours  target  \n",
              "0              36     1.0  \n",
              "1              47     0.0  \n",
              "2              83     0.0  \n",
              "3              52     1.0  \n",
              "4               8     0.0  "
            ],
            "text/html": [
              "\n",
              "  <div id=\"df-bde9b416-94b8-4ada-b323-f720b6a8c99e\">\n",
              "    <div class=\"colab-df-container\">\n",
              "      <div>\n",
              "<style scoped>\n",
              "    .dataframe tbody tr th:only-of-type {\n",
              "        vertical-align: middle;\n",
              "    }\n",
              "\n",
              "    .dataframe tbody tr th {\n",
              "        vertical-align: top;\n",
              "    }\n",
              "\n",
              "    .dataframe thead th {\n",
              "        text-align: right;\n",
              "    }\n",
              "</style>\n",
              "<table border=\"1\" class=\"dataframe\">\n",
              "  <thead>\n",
              "    <tr style=\"text-align: right;\">\n",
              "      <th></th>\n",
              "      <th>enrollee_id</th>\n",
              "      <th>city</th>\n",
              "      <th>city_development_index</th>\n",
              "      <th>gender</th>\n",
              "      <th>relevent_experience</th>\n",
              "      <th>enrolled_university</th>\n",
              "      <th>education_level</th>\n",
              "      <th>major_discipline</th>\n",
              "      <th>experience</th>\n",
              "      <th>company_size</th>\n",
              "      <th>company_type</th>\n",
              "      <th>last_new_job</th>\n",
              "      <th>training_hours</th>\n",
              "      <th>target</th>\n",
              "    </tr>\n",
              "  </thead>\n",
              "  <tbody>\n",
              "    <tr>\n",
              "      <th>0</th>\n",
              "      <td>8949</td>\n",
              "      <td>city_103</td>\n",
              "      <td>0.920</td>\n",
              "      <td>Male</td>\n",
              "      <td>Has relevent experience</td>\n",
              "      <td>no_enrollment</td>\n",
              "      <td>Graduate</td>\n",
              "      <td>STEM</td>\n",
              "      <td>&gt;20</td>\n",
              "      <td>NaN</td>\n",
              "      <td>NaN</td>\n",
              "      <td>1</td>\n",
              "      <td>36</td>\n",
              "      <td>1.0</td>\n",
              "    </tr>\n",
              "    <tr>\n",
              "      <th>1</th>\n",
              "      <td>29725</td>\n",
              "      <td>city_40</td>\n",
              "      <td>0.776</td>\n",
              "      <td>Male</td>\n",
              "      <td>No relevent experience</td>\n",
              "      <td>no_enrollment</td>\n",
              "      <td>Graduate</td>\n",
              "      <td>STEM</td>\n",
              "      <td>15</td>\n",
              "      <td>50-99</td>\n",
              "      <td>Pvt Ltd</td>\n",
              "      <td>&gt;4</td>\n",
              "      <td>47</td>\n",
              "      <td>0.0</td>\n",
              "    </tr>\n",
              "    <tr>\n",
              "      <th>2</th>\n",
              "      <td>11561</td>\n",
              "      <td>city_21</td>\n",
              "      <td>0.624</td>\n",
              "      <td>NaN</td>\n",
              "      <td>No relevent experience</td>\n",
              "      <td>Full time course</td>\n",
              "      <td>Graduate</td>\n",
              "      <td>STEM</td>\n",
              "      <td>5</td>\n",
              "      <td>NaN</td>\n",
              "      <td>NaN</td>\n",
              "      <td>never</td>\n",
              "      <td>83</td>\n",
              "      <td>0.0</td>\n",
              "    </tr>\n",
              "    <tr>\n",
              "      <th>3</th>\n",
              "      <td>33241</td>\n",
              "      <td>city_115</td>\n",
              "      <td>0.789</td>\n",
              "      <td>NaN</td>\n",
              "      <td>No relevent experience</td>\n",
              "      <td>NaN</td>\n",
              "      <td>Graduate</td>\n",
              "      <td>Business Degree</td>\n",
              "      <td>&lt;1</td>\n",
              "      <td>NaN</td>\n",
              "      <td>Pvt Ltd</td>\n",
              "      <td>never</td>\n",
              "      <td>52</td>\n",
              "      <td>1.0</td>\n",
              "    </tr>\n",
              "    <tr>\n",
              "      <th>4</th>\n",
              "      <td>666</td>\n",
              "      <td>city_162</td>\n",
              "      <td>0.767</td>\n",
              "      <td>Male</td>\n",
              "      <td>Has relevent experience</td>\n",
              "      <td>no_enrollment</td>\n",
              "      <td>Masters</td>\n",
              "      <td>STEM</td>\n",
              "      <td>&gt;20</td>\n",
              "      <td>50-99</td>\n",
              "      <td>Funded Startup</td>\n",
              "      <td>4</td>\n",
              "      <td>8</td>\n",
              "      <td>0.0</td>\n",
              "    </tr>\n",
              "  </tbody>\n",
              "</table>\n",
              "</div>\n",
              "      <button class=\"colab-df-convert\" onclick=\"convertToInteractive('df-bde9b416-94b8-4ada-b323-f720b6a8c99e')\"\n",
              "              title=\"Convert this dataframe to an interactive table.\"\n",
              "              style=\"display:none;\">\n",
              "        \n",
              "  <svg xmlns=\"http://www.w3.org/2000/svg\" height=\"24px\"viewBox=\"0 0 24 24\"\n",
              "       width=\"24px\">\n",
              "    <path d=\"M0 0h24v24H0V0z\" fill=\"none\"/>\n",
              "    <path d=\"M18.56 5.44l.94 2.06.94-2.06 2.06-.94-2.06-.94-.94-2.06-.94 2.06-2.06.94zm-11 1L8.5 8.5l.94-2.06 2.06-.94-2.06-.94L8.5 2.5l-.94 2.06-2.06.94zm10 10l.94 2.06.94-2.06 2.06-.94-2.06-.94-.94-2.06-.94 2.06-2.06.94z\"/><path d=\"M17.41 7.96l-1.37-1.37c-.4-.4-.92-.59-1.43-.59-.52 0-1.04.2-1.43.59L10.3 9.45l-7.72 7.72c-.78.78-.78 2.05 0 2.83L4 21.41c.39.39.9.59 1.41.59.51 0 1.02-.2 1.41-.59l7.78-7.78 2.81-2.81c.8-.78.8-2.07 0-2.86zM5.41 20L4 18.59l7.72-7.72 1.47 1.35L5.41 20z\"/>\n",
              "  </svg>\n",
              "      </button>\n",
              "      \n",
              "  <style>\n",
              "    .colab-df-container {\n",
              "      display:flex;\n",
              "      flex-wrap:wrap;\n",
              "      gap: 12px;\n",
              "    }\n",
              "\n",
              "    .colab-df-convert {\n",
              "      background-color: #E8F0FE;\n",
              "      border: none;\n",
              "      border-radius: 50%;\n",
              "      cursor: pointer;\n",
              "      display: none;\n",
              "      fill: #1967D2;\n",
              "      height: 32px;\n",
              "      padding: 0 0 0 0;\n",
              "      width: 32px;\n",
              "    }\n",
              "\n",
              "    .colab-df-convert:hover {\n",
              "      background-color: #E2EBFA;\n",
              "      box-shadow: 0px 1px 2px rgba(60, 64, 67, 0.3), 0px 1px 3px 1px rgba(60, 64, 67, 0.15);\n",
              "      fill: #174EA6;\n",
              "    }\n",
              "\n",
              "    [theme=dark] .colab-df-convert {\n",
              "      background-color: #3B4455;\n",
              "      fill: #D2E3FC;\n",
              "    }\n",
              "\n",
              "    [theme=dark] .colab-df-convert:hover {\n",
              "      background-color: #434B5C;\n",
              "      box-shadow: 0px 1px 3px 1px rgba(0, 0, 0, 0.15);\n",
              "      filter: drop-shadow(0px 1px 2px rgba(0, 0, 0, 0.3));\n",
              "      fill: #FFFFFF;\n",
              "    }\n",
              "  </style>\n",
              "\n",
              "      <script>\n",
              "        const buttonEl =\n",
              "          document.querySelector('#df-bde9b416-94b8-4ada-b323-f720b6a8c99e button.colab-df-convert');\n",
              "        buttonEl.style.display =\n",
              "          google.colab.kernel.accessAllowed ? 'block' : 'none';\n",
              "\n",
              "        async function convertToInteractive(key) {\n",
              "          const element = document.querySelector('#df-bde9b416-94b8-4ada-b323-f720b6a8c99e');\n",
              "          const dataTable =\n",
              "            await google.colab.kernel.invokeFunction('convertToInteractive',\n",
              "                                                     [key], {});\n",
              "          if (!dataTable) return;\n",
              "\n",
              "          const docLinkHtml = 'Like what you see? Visit the ' +\n",
              "            '<a target=\"_blank\" href=https://colab.research.google.com/notebooks/data_table.ipynb>data table notebook</a>'\n",
              "            + ' to learn more about interactive tables.';\n",
              "          element.innerHTML = '';\n",
              "          dataTable['output_type'] = 'display_data';\n",
              "          await google.colab.output.renderOutput(dataTable, element);\n",
              "          const docLink = document.createElement('div');\n",
              "          docLink.innerHTML = docLinkHtml;\n",
              "          element.appendChild(docLink);\n",
              "        }\n",
              "      </script>\n",
              "    </div>\n",
              "  </div>\n",
              "  "
            ]
          },
          "metadata": {},
          "execution_count": 7
        }
      ],
      "source": [
        "df_train.head()"
      ]
    },
    {
      "cell_type": "code",
      "execution_count": null,
      "metadata": {
        "colab": {
          "base_uri": "https://localhost:8080/",
          "height": 270
        },
        "id": "n-hzQ6DHX_Bn",
        "outputId": "2a068253-8c61-4ef0-b858-37b2580b1fe9"
      },
      "outputs": [
        {
          "output_type": "execute_result",
          "data": {
            "text/plain": [
              "   enrollee_id      city  city_development_index  gender  \\\n",
              "0        32403   city_41                   0.827    Male   \n",
              "1         9858  city_103                   0.920  Female   \n",
              "2        31806   city_21                   0.624    Male   \n",
              "3        27385   city_13                   0.827    Male   \n",
              "4        27724  city_103                   0.920    Male   \n",
              "\n",
              "       relevent_experience enrolled_university education_level  \\\n",
              "0  Has relevent experience    Full time course        Graduate   \n",
              "1  Has relevent experience       no_enrollment        Graduate   \n",
              "2   No relevent experience       no_enrollment     High School   \n",
              "3  Has relevent experience       no_enrollment         Masters   \n",
              "4  Has relevent experience       no_enrollment        Graduate   \n",
              "\n",
              "  major_discipline experience company_size company_type last_new_job  \\\n",
              "0             STEM          9          <10          NaN            1   \n",
              "1             STEM          5          NaN      Pvt Ltd            1   \n",
              "2              NaN         <1          NaN      Pvt Ltd        never   \n",
              "3             STEM         11        10/49      Pvt Ltd            1   \n",
              "4             STEM        >20       10000+      Pvt Ltd           >4   \n",
              "\n",
              "   training_hours  \n",
              "0              21  \n",
              "1              98  \n",
              "2              15  \n",
              "3              39  \n",
              "4              72  "
            ],
            "text/html": [
              "\n",
              "  <div id=\"df-6c80d85b-c069-439a-aba4-25129bfdec60\">\n",
              "    <div class=\"colab-df-container\">\n",
              "      <div>\n",
              "<style scoped>\n",
              "    .dataframe tbody tr th:only-of-type {\n",
              "        vertical-align: middle;\n",
              "    }\n",
              "\n",
              "    .dataframe tbody tr th {\n",
              "        vertical-align: top;\n",
              "    }\n",
              "\n",
              "    .dataframe thead th {\n",
              "        text-align: right;\n",
              "    }\n",
              "</style>\n",
              "<table border=\"1\" class=\"dataframe\">\n",
              "  <thead>\n",
              "    <tr style=\"text-align: right;\">\n",
              "      <th></th>\n",
              "      <th>enrollee_id</th>\n",
              "      <th>city</th>\n",
              "      <th>city_development_index</th>\n",
              "      <th>gender</th>\n",
              "      <th>relevent_experience</th>\n",
              "      <th>enrolled_university</th>\n",
              "      <th>education_level</th>\n",
              "      <th>major_discipline</th>\n",
              "      <th>experience</th>\n",
              "      <th>company_size</th>\n",
              "      <th>company_type</th>\n",
              "      <th>last_new_job</th>\n",
              "      <th>training_hours</th>\n",
              "    </tr>\n",
              "  </thead>\n",
              "  <tbody>\n",
              "    <tr>\n",
              "      <th>0</th>\n",
              "      <td>32403</td>\n",
              "      <td>city_41</td>\n",
              "      <td>0.827</td>\n",
              "      <td>Male</td>\n",
              "      <td>Has relevent experience</td>\n",
              "      <td>Full time course</td>\n",
              "      <td>Graduate</td>\n",
              "      <td>STEM</td>\n",
              "      <td>9</td>\n",
              "      <td>&lt;10</td>\n",
              "      <td>NaN</td>\n",
              "      <td>1</td>\n",
              "      <td>21</td>\n",
              "    </tr>\n",
              "    <tr>\n",
              "      <th>1</th>\n",
              "      <td>9858</td>\n",
              "      <td>city_103</td>\n",
              "      <td>0.920</td>\n",
              "      <td>Female</td>\n",
              "      <td>Has relevent experience</td>\n",
              "      <td>no_enrollment</td>\n",
              "      <td>Graduate</td>\n",
              "      <td>STEM</td>\n",
              "      <td>5</td>\n",
              "      <td>NaN</td>\n",
              "      <td>Pvt Ltd</td>\n",
              "      <td>1</td>\n",
              "      <td>98</td>\n",
              "    </tr>\n",
              "    <tr>\n",
              "      <th>2</th>\n",
              "      <td>31806</td>\n",
              "      <td>city_21</td>\n",
              "      <td>0.624</td>\n",
              "      <td>Male</td>\n",
              "      <td>No relevent experience</td>\n",
              "      <td>no_enrollment</td>\n",
              "      <td>High School</td>\n",
              "      <td>NaN</td>\n",
              "      <td>&lt;1</td>\n",
              "      <td>NaN</td>\n",
              "      <td>Pvt Ltd</td>\n",
              "      <td>never</td>\n",
              "      <td>15</td>\n",
              "    </tr>\n",
              "    <tr>\n",
              "      <th>3</th>\n",
              "      <td>27385</td>\n",
              "      <td>city_13</td>\n",
              "      <td>0.827</td>\n",
              "      <td>Male</td>\n",
              "      <td>Has relevent experience</td>\n",
              "      <td>no_enrollment</td>\n",
              "      <td>Masters</td>\n",
              "      <td>STEM</td>\n",
              "      <td>11</td>\n",
              "      <td>10/49</td>\n",
              "      <td>Pvt Ltd</td>\n",
              "      <td>1</td>\n",
              "      <td>39</td>\n",
              "    </tr>\n",
              "    <tr>\n",
              "      <th>4</th>\n",
              "      <td>27724</td>\n",
              "      <td>city_103</td>\n",
              "      <td>0.920</td>\n",
              "      <td>Male</td>\n",
              "      <td>Has relevent experience</td>\n",
              "      <td>no_enrollment</td>\n",
              "      <td>Graduate</td>\n",
              "      <td>STEM</td>\n",
              "      <td>&gt;20</td>\n",
              "      <td>10000+</td>\n",
              "      <td>Pvt Ltd</td>\n",
              "      <td>&gt;4</td>\n",
              "      <td>72</td>\n",
              "    </tr>\n",
              "  </tbody>\n",
              "</table>\n",
              "</div>\n",
              "      <button class=\"colab-df-convert\" onclick=\"convertToInteractive('df-6c80d85b-c069-439a-aba4-25129bfdec60')\"\n",
              "              title=\"Convert this dataframe to an interactive table.\"\n",
              "              style=\"display:none;\">\n",
              "        \n",
              "  <svg xmlns=\"http://www.w3.org/2000/svg\" height=\"24px\"viewBox=\"0 0 24 24\"\n",
              "       width=\"24px\">\n",
              "    <path d=\"M0 0h24v24H0V0z\" fill=\"none\"/>\n",
              "    <path d=\"M18.56 5.44l.94 2.06.94-2.06 2.06-.94-2.06-.94-.94-2.06-.94 2.06-2.06.94zm-11 1L8.5 8.5l.94-2.06 2.06-.94-2.06-.94L8.5 2.5l-.94 2.06-2.06.94zm10 10l.94 2.06.94-2.06 2.06-.94-2.06-.94-.94-2.06-.94 2.06-2.06.94z\"/><path d=\"M17.41 7.96l-1.37-1.37c-.4-.4-.92-.59-1.43-.59-.52 0-1.04.2-1.43.59L10.3 9.45l-7.72 7.72c-.78.78-.78 2.05 0 2.83L4 21.41c.39.39.9.59 1.41.59.51 0 1.02-.2 1.41-.59l7.78-7.78 2.81-2.81c.8-.78.8-2.07 0-2.86zM5.41 20L4 18.59l7.72-7.72 1.47 1.35L5.41 20z\"/>\n",
              "  </svg>\n",
              "      </button>\n",
              "      \n",
              "  <style>\n",
              "    .colab-df-container {\n",
              "      display:flex;\n",
              "      flex-wrap:wrap;\n",
              "      gap: 12px;\n",
              "    }\n",
              "\n",
              "    .colab-df-convert {\n",
              "      background-color: #E8F0FE;\n",
              "      border: none;\n",
              "      border-radius: 50%;\n",
              "      cursor: pointer;\n",
              "      display: none;\n",
              "      fill: #1967D2;\n",
              "      height: 32px;\n",
              "      padding: 0 0 0 0;\n",
              "      width: 32px;\n",
              "    }\n",
              "\n",
              "    .colab-df-convert:hover {\n",
              "      background-color: #E2EBFA;\n",
              "      box-shadow: 0px 1px 2px rgba(60, 64, 67, 0.3), 0px 1px 3px 1px rgba(60, 64, 67, 0.15);\n",
              "      fill: #174EA6;\n",
              "    }\n",
              "\n",
              "    [theme=dark] .colab-df-convert {\n",
              "      background-color: #3B4455;\n",
              "      fill: #D2E3FC;\n",
              "    }\n",
              "\n",
              "    [theme=dark] .colab-df-convert:hover {\n",
              "      background-color: #434B5C;\n",
              "      box-shadow: 0px 1px 3px 1px rgba(0, 0, 0, 0.15);\n",
              "      filter: drop-shadow(0px 1px 2px rgba(0, 0, 0, 0.3));\n",
              "      fill: #FFFFFF;\n",
              "    }\n",
              "  </style>\n",
              "\n",
              "      <script>\n",
              "        const buttonEl =\n",
              "          document.querySelector('#df-6c80d85b-c069-439a-aba4-25129bfdec60 button.colab-df-convert');\n",
              "        buttonEl.style.display =\n",
              "          google.colab.kernel.accessAllowed ? 'block' : 'none';\n",
              "\n",
              "        async function convertToInteractive(key) {\n",
              "          const element = document.querySelector('#df-6c80d85b-c069-439a-aba4-25129bfdec60');\n",
              "          const dataTable =\n",
              "            await google.colab.kernel.invokeFunction('convertToInteractive',\n",
              "                                                     [key], {});\n",
              "          if (!dataTable) return;\n",
              "\n",
              "          const docLinkHtml = 'Like what you see? Visit the ' +\n",
              "            '<a target=\"_blank\" href=https://colab.research.google.com/notebooks/data_table.ipynb>data table notebook</a>'\n",
              "            + ' to learn more about interactive tables.';\n",
              "          element.innerHTML = '';\n",
              "          dataTable['output_type'] = 'display_data';\n",
              "          await google.colab.output.renderOutput(dataTable, element);\n",
              "          const docLink = document.createElement('div');\n",
              "          docLink.innerHTML = docLinkHtml;\n",
              "          element.appendChild(docLink);\n",
              "        }\n",
              "      </script>\n",
              "    </div>\n",
              "  </div>\n",
              "  "
            ]
          },
          "metadata": {},
          "execution_count": 8
        }
      ],
      "source": [
        "df_test.head()"
      ]
    },
    {
      "cell_type": "markdown",
      "metadata": {
        "id": "8NSB2XUKX_Bn"
      },
      "source": [
        "Features\n",
        "\n",
        "* enrollee_id : Unique ID for candidate\n",
        "* city: City code\n",
        "* city_ development _index : Developement index of the city (scaled)\n",
        "* gender: Gender of candidate\n",
        "* relevent_experience: Relevant experience of candidate\n",
        "* enrolled_university: Type of University course enrolled if any\n",
        "* education_level: Education level of candidate\n",
        "* major_discipline :Education major discipline of candidate\n",
        "* experience: Candidate total experience in years\n",
        "* company_size: No of employees in current employer's company\n",
        "* company_type : Type of current employer\n",
        "* lastnewjob: Difference in years between previous job and current job\n",
        "* training_hours: training hours completed\n",
        "* target: 0 – Not looking for job change, 1 – Looking for a job change"
      ]
    },
    {
      "cell_type": "code",
      "execution_count": null,
      "metadata": {
        "colab": {
          "base_uri": "https://localhost:8080/"
        },
        "id": "3h2ZC7kDX_Bo",
        "outputId": "495a8053-4891-4e22-83a0-0b7b2edc9fc0"
      },
      "outputs": [
        {
          "output_type": "stream",
          "name": "stdout",
          "text": [
            "<class 'pandas.core.frame.DataFrame'>\n",
            "RangeIndex: 19158 entries, 0 to 19157\n",
            "Data columns (total 14 columns):\n",
            " #   Column                  Non-Null Count  Dtype  \n",
            "---  ------                  --------------  -----  \n",
            " 0   enrollee_id             19158 non-null  int64  \n",
            " 1   city                    19158 non-null  object \n",
            " 2   city_development_index  19158 non-null  float64\n",
            " 3   gender                  14650 non-null  object \n",
            " 4   relevent_experience     19158 non-null  object \n",
            " 5   enrolled_university     18772 non-null  object \n",
            " 6   education_level         18698 non-null  object \n",
            " 7   major_discipline        16345 non-null  object \n",
            " 8   experience              19093 non-null  object \n",
            " 9   company_size            13220 non-null  object \n",
            " 10  company_type            13018 non-null  object \n",
            " 11  last_new_job            18735 non-null  object \n",
            " 12  training_hours          19158 non-null  int64  \n",
            " 13  target                  19158 non-null  float64\n",
            "dtypes: float64(2), int64(2), object(10)\n",
            "memory usage: 2.0+ MB\n"
          ]
        }
      ],
      "source": [
        "df_train.info()"
      ]
    },
    {
      "cell_type": "code",
      "execution_count": null,
      "metadata": {
        "colab": {
          "base_uri": "https://localhost:8080/"
        },
        "id": "1pQLvr99X_Bo",
        "outputId": "b2f1d3ba-b65e-4a3a-cee0-843c4d2d63fd"
      },
      "outputs": [
        {
          "output_type": "stream",
          "name": "stdout",
          "text": [
            "<class 'pandas.core.frame.DataFrame'>\n",
            "RangeIndex: 2129 entries, 0 to 2128\n",
            "Data columns (total 13 columns):\n",
            " #   Column                  Non-Null Count  Dtype  \n",
            "---  ------                  --------------  -----  \n",
            " 0   enrollee_id             2129 non-null   int64  \n",
            " 1   city                    2129 non-null   object \n",
            " 2   city_development_index  2129 non-null   float64\n",
            " 3   gender                  1621 non-null   object \n",
            " 4   relevent_experience     2129 non-null   object \n",
            " 5   enrolled_university     2098 non-null   object \n",
            " 6   education_level         2077 non-null   object \n",
            " 7   major_discipline        1817 non-null   object \n",
            " 8   experience              2124 non-null   object \n",
            " 9   company_size            1507 non-null   object \n",
            " 10  company_type            1495 non-null   object \n",
            " 11  last_new_job            2089 non-null   object \n",
            " 12  training_hours          2129 non-null   int64  \n",
            "dtypes: float64(1), int64(2), object(10)\n",
            "memory usage: 216.4+ KB\n"
          ]
        }
      ],
      "source": [
        "df_test.info()"
      ]
    },
    {
      "cell_type": "markdown",
      "metadata": {
        "id": "NusJBbEqX_Bo"
      },
      "source": [
        "# Approaching Categorical Features<a id = \"1\" ></a>\n",
        "\n",
        "\n",
        "Categorical variables/features are any feature type can be classified into two major\n",
        "types:\n",
        "*  Nominal\n",
        "*  Ordinal\n",
        "\n",
        "**Nominal variables** are variables that have two or more categories which do not\n",
        "have any kind of order associated with them. For example, if gender is classified\n",
        "into two groups, i.e. male and female, it can be considered as a nominal variable.\n",
        "\n",
        "**Ordinal variables** on the other hand, have “levels” or categories with a particular\n",
        "order associated with them. For example, an ordinal categorical variable can be a\n",
        "feature with three different levels: low, medium and high. Order is important."
      ]
    },
    {
      "cell_type": "markdown",
      "metadata": {
        "id": "8QuOPDljX_Bp"
      },
      "source": [
        "**List of ordinal variables in this data**\n",
        "\n",
        "1. education_level\n",
        "2. company_size\n",
        "3. experience\n",
        "4. last_new_job\n",
        "5. company_type"
      ]
    },
    {
      "cell_type": "code",
      "execution_count": null,
      "metadata": {
        "colab": {
          "base_uri": "https://localhost:8080/",
          "height": 270
        },
        "id": "gcPopWHaX_Bp",
        "outputId": "d8d6287c-3537-4b89-848a-3b43952b3fa0"
      },
      "outputs": [
        {
          "output_type": "execute_result",
          "data": {
            "text/plain": [
              "   enrollee_id      city  city_development_index gender  \\\n",
              "0         8949  city_103                   0.920   Male   \n",
              "1        29725   city_40                   0.776   Male   \n",
              "2        11561   city_21                   0.624    NaN   \n",
              "3        33241  city_115                   0.789    NaN   \n",
              "4          666  city_162                   0.767   Male   \n",
              "\n",
              "       relevent_experience enrolled_university education_level  \\\n",
              "0  Has relevent experience       no_enrollment        Graduate   \n",
              "1   No relevent experience       no_enrollment        Graduate   \n",
              "2   No relevent experience    Full time course        Graduate   \n",
              "3   No relevent experience                 NaN        Graduate   \n",
              "4  Has relevent experience       no_enrollment         Masters   \n",
              "\n",
              "  major_discipline experience company_size    company_type last_new_job  \\\n",
              "0             STEM        >20          NaN             NaN            1   \n",
              "1             STEM         15        50-99         Pvt Ltd           >4   \n",
              "2             STEM          5          NaN             NaN        never   \n",
              "3  Business Degree         <1          NaN         Pvt Ltd        never   \n",
              "4             STEM        >20        50-99  Funded Startup            4   \n",
              "\n",
              "   training_hours  target  \n",
              "0              36     1.0  \n",
              "1              47     0.0  \n",
              "2              83     0.0  \n",
              "3              52     1.0  \n",
              "4               8     0.0  "
            ],
            "text/html": [
              "\n",
              "  <div id=\"df-2f6814db-7e57-4f7d-9ed1-3cf30219b8c7\">\n",
              "    <div class=\"colab-df-container\">\n",
              "      <div>\n",
              "<style scoped>\n",
              "    .dataframe tbody tr th:only-of-type {\n",
              "        vertical-align: middle;\n",
              "    }\n",
              "\n",
              "    .dataframe tbody tr th {\n",
              "        vertical-align: top;\n",
              "    }\n",
              "\n",
              "    .dataframe thead th {\n",
              "        text-align: right;\n",
              "    }\n",
              "</style>\n",
              "<table border=\"1\" class=\"dataframe\">\n",
              "  <thead>\n",
              "    <tr style=\"text-align: right;\">\n",
              "      <th></th>\n",
              "      <th>enrollee_id</th>\n",
              "      <th>city</th>\n",
              "      <th>city_development_index</th>\n",
              "      <th>gender</th>\n",
              "      <th>relevent_experience</th>\n",
              "      <th>enrolled_university</th>\n",
              "      <th>education_level</th>\n",
              "      <th>major_discipline</th>\n",
              "      <th>experience</th>\n",
              "      <th>company_size</th>\n",
              "      <th>company_type</th>\n",
              "      <th>last_new_job</th>\n",
              "      <th>training_hours</th>\n",
              "      <th>target</th>\n",
              "    </tr>\n",
              "  </thead>\n",
              "  <tbody>\n",
              "    <tr>\n",
              "      <th>0</th>\n",
              "      <td>8949</td>\n",
              "      <td>city_103</td>\n",
              "      <td>0.920</td>\n",
              "      <td>Male</td>\n",
              "      <td>Has relevent experience</td>\n",
              "      <td>no_enrollment</td>\n",
              "      <td>Graduate</td>\n",
              "      <td>STEM</td>\n",
              "      <td>&gt;20</td>\n",
              "      <td>NaN</td>\n",
              "      <td>NaN</td>\n",
              "      <td>1</td>\n",
              "      <td>36</td>\n",
              "      <td>1.0</td>\n",
              "    </tr>\n",
              "    <tr>\n",
              "      <th>1</th>\n",
              "      <td>29725</td>\n",
              "      <td>city_40</td>\n",
              "      <td>0.776</td>\n",
              "      <td>Male</td>\n",
              "      <td>No relevent experience</td>\n",
              "      <td>no_enrollment</td>\n",
              "      <td>Graduate</td>\n",
              "      <td>STEM</td>\n",
              "      <td>15</td>\n",
              "      <td>50-99</td>\n",
              "      <td>Pvt Ltd</td>\n",
              "      <td>&gt;4</td>\n",
              "      <td>47</td>\n",
              "      <td>0.0</td>\n",
              "    </tr>\n",
              "    <tr>\n",
              "      <th>2</th>\n",
              "      <td>11561</td>\n",
              "      <td>city_21</td>\n",
              "      <td>0.624</td>\n",
              "      <td>NaN</td>\n",
              "      <td>No relevent experience</td>\n",
              "      <td>Full time course</td>\n",
              "      <td>Graduate</td>\n",
              "      <td>STEM</td>\n",
              "      <td>5</td>\n",
              "      <td>NaN</td>\n",
              "      <td>NaN</td>\n",
              "      <td>never</td>\n",
              "      <td>83</td>\n",
              "      <td>0.0</td>\n",
              "    </tr>\n",
              "    <tr>\n",
              "      <th>3</th>\n",
              "      <td>33241</td>\n",
              "      <td>city_115</td>\n",
              "      <td>0.789</td>\n",
              "      <td>NaN</td>\n",
              "      <td>No relevent experience</td>\n",
              "      <td>NaN</td>\n",
              "      <td>Graduate</td>\n",
              "      <td>Business Degree</td>\n",
              "      <td>&lt;1</td>\n",
              "      <td>NaN</td>\n",
              "      <td>Pvt Ltd</td>\n",
              "      <td>never</td>\n",
              "      <td>52</td>\n",
              "      <td>1.0</td>\n",
              "    </tr>\n",
              "    <tr>\n",
              "      <th>4</th>\n",
              "      <td>666</td>\n",
              "      <td>city_162</td>\n",
              "      <td>0.767</td>\n",
              "      <td>Male</td>\n",
              "      <td>Has relevent experience</td>\n",
              "      <td>no_enrollment</td>\n",
              "      <td>Masters</td>\n",
              "      <td>STEM</td>\n",
              "      <td>&gt;20</td>\n",
              "      <td>50-99</td>\n",
              "      <td>Funded Startup</td>\n",
              "      <td>4</td>\n",
              "      <td>8</td>\n",
              "      <td>0.0</td>\n",
              "    </tr>\n",
              "  </tbody>\n",
              "</table>\n",
              "</div>\n",
              "      <button class=\"colab-df-convert\" onclick=\"convertToInteractive('df-2f6814db-7e57-4f7d-9ed1-3cf30219b8c7')\"\n",
              "              title=\"Convert this dataframe to an interactive table.\"\n",
              "              style=\"display:none;\">\n",
              "        \n",
              "  <svg xmlns=\"http://www.w3.org/2000/svg\" height=\"24px\"viewBox=\"0 0 24 24\"\n",
              "       width=\"24px\">\n",
              "    <path d=\"M0 0h24v24H0V0z\" fill=\"none\"/>\n",
              "    <path d=\"M18.56 5.44l.94 2.06.94-2.06 2.06-.94-2.06-.94-.94-2.06-.94 2.06-2.06.94zm-11 1L8.5 8.5l.94-2.06 2.06-.94-2.06-.94L8.5 2.5l-.94 2.06-2.06.94zm10 10l.94 2.06.94-2.06 2.06-.94-2.06-.94-.94-2.06-.94 2.06-2.06.94z\"/><path d=\"M17.41 7.96l-1.37-1.37c-.4-.4-.92-.59-1.43-.59-.52 0-1.04.2-1.43.59L10.3 9.45l-7.72 7.72c-.78.78-.78 2.05 0 2.83L4 21.41c.39.39.9.59 1.41.59.51 0 1.02-.2 1.41-.59l7.78-7.78 2.81-2.81c.8-.78.8-2.07 0-2.86zM5.41 20L4 18.59l7.72-7.72 1.47 1.35L5.41 20z\"/>\n",
              "  </svg>\n",
              "      </button>\n",
              "      \n",
              "  <style>\n",
              "    .colab-df-container {\n",
              "      display:flex;\n",
              "      flex-wrap:wrap;\n",
              "      gap: 12px;\n",
              "    }\n",
              "\n",
              "    .colab-df-convert {\n",
              "      background-color: #E8F0FE;\n",
              "      border: none;\n",
              "      border-radius: 50%;\n",
              "      cursor: pointer;\n",
              "      display: none;\n",
              "      fill: #1967D2;\n",
              "      height: 32px;\n",
              "      padding: 0 0 0 0;\n",
              "      width: 32px;\n",
              "    }\n",
              "\n",
              "    .colab-df-convert:hover {\n",
              "      background-color: #E2EBFA;\n",
              "      box-shadow: 0px 1px 2px rgba(60, 64, 67, 0.3), 0px 1px 3px 1px rgba(60, 64, 67, 0.15);\n",
              "      fill: #174EA6;\n",
              "    }\n",
              "\n",
              "    [theme=dark] .colab-df-convert {\n",
              "      background-color: #3B4455;\n",
              "      fill: #D2E3FC;\n",
              "    }\n",
              "\n",
              "    [theme=dark] .colab-df-convert:hover {\n",
              "      background-color: #434B5C;\n",
              "      box-shadow: 0px 1px 3px 1px rgba(0, 0, 0, 0.15);\n",
              "      filter: drop-shadow(0px 1px 2px rgba(0, 0, 0, 0.3));\n",
              "      fill: #FFFFFF;\n",
              "    }\n",
              "  </style>\n",
              "\n",
              "      <script>\n",
              "        const buttonEl =\n",
              "          document.querySelector('#df-2f6814db-7e57-4f7d-9ed1-3cf30219b8c7 button.colab-df-convert');\n",
              "        buttonEl.style.display =\n",
              "          google.colab.kernel.accessAllowed ? 'block' : 'none';\n",
              "\n",
              "        async function convertToInteractive(key) {\n",
              "          const element = document.querySelector('#df-2f6814db-7e57-4f7d-9ed1-3cf30219b8c7');\n",
              "          const dataTable =\n",
              "            await google.colab.kernel.invokeFunction('convertToInteractive',\n",
              "                                                     [key], {});\n",
              "          if (!dataTable) return;\n",
              "\n",
              "          const docLinkHtml = 'Like what you see? Visit the ' +\n",
              "            '<a target=\"_blank\" href=https://colab.research.google.com/notebooks/data_table.ipynb>data table notebook</a>'\n",
              "            + ' to learn more about interactive tables.';\n",
              "          element.innerHTML = '';\n",
              "          dataTable['output_type'] = 'display_data';\n",
              "          await google.colab.output.renderOutput(dataTable, element);\n",
              "          const docLink = document.createElement('div');\n",
              "          docLink.innerHTML = docLinkHtml;\n",
              "          element.appendChild(docLink);\n",
              "        }\n",
              "      </script>\n",
              "    </div>\n",
              "  </div>\n",
              "  "
            ]
          },
          "metadata": {},
          "execution_count": 11
        }
      ],
      "source": [
        "df_train.head()"
      ]
    },
    {
      "cell_type": "markdown",
      "metadata": {
        "id": "XCfkJEUgX_Bp"
      },
      "source": [
        "## Various Approaches to Encode Categorical Features\n"
      ]
    },
    {
      "cell_type": "code",
      "execution_count": null,
      "metadata": {
        "id": "kHZbpNS6X_Bp"
      },
      "outputs": [],
      "source": [
        "#lets combine train and test sets to preprocess the data\n",
        "\n",
        "#First i suggest to create a fake target feature in test set with some same value for every single element\n",
        "#By this it will be easy for us to combine and seprate our training and test data after data preprocessing\n",
        "\n",
        "#can plot count plot for more intution\n",
        "\n",
        "df_test['target'] = -1 #remeber that we have to drop this column later\n",
        "\n",
        "df_pre = pd.concat([df_train, df_test], axis = 0).reset_index(drop = True)\n",
        "# Just a Tip always reset the indices whenever you join or disjoin two or more datasets"
      ]
    },
    {
      "cell_type": "code",
      "execution_count": null,
      "metadata": {
        "colab": {
          "base_uri": "https://localhost:8080/"
        },
        "id": "oz1D3Fm0X_Bp",
        "outputId": "376c9b93-f160-4154-d084-582e9c02808b"
      },
      "outputs": [
        {
          "output_type": "stream",
          "name": "stdout",
          "text": [
            "<class 'pandas.core.frame.DataFrame'>\n",
            "RangeIndex: 21287 entries, 0 to 21286\n",
            "Data columns (total 14 columns):\n",
            " #   Column                  Non-Null Count  Dtype  \n",
            "---  ------                  --------------  -----  \n",
            " 0   enrollee_id             21287 non-null  int64  \n",
            " 1   city                    21287 non-null  object \n",
            " 2   city_development_index  21287 non-null  float64\n",
            " 3   gender                  16271 non-null  object \n",
            " 4   relevent_experience     21287 non-null  object \n",
            " 5   enrolled_university     20870 non-null  object \n",
            " 6   education_level         20775 non-null  object \n",
            " 7   major_discipline        18162 non-null  object \n",
            " 8   experience              21217 non-null  object \n",
            " 9   company_size            14727 non-null  object \n",
            " 10  company_type            14513 non-null  object \n",
            " 11  last_new_job            20824 non-null  object \n",
            " 12  training_hours          21287 non-null  int64  \n",
            " 13  target                  21287 non-null  float64\n",
            "dtypes: float64(2), int64(2), object(10)\n",
            "memory usage: 2.3+ MB\n"
          ]
        }
      ],
      "source": [
        "df_pre.info()"
      ]
    },
    {
      "cell_type": "markdown",
      "metadata": {
        "id": "XNxSvzEUX_Bq"
      },
      "source": [
        "\n",
        "**Label Encoding** refers to converting the labels into numeric form so as to convert it into the machine-readable form. Machine learning algorithms can then decide in a better way on how those labels must be operated. It is an important pre-processing step for the structured dataset in supervised learning.\n",
        "![](https://ekababisong.org/assets/seminar_IEEE/LabelEncoder.png)  \n",
        "\n",
        "We can do label Encoding From LabelEncoder of scikit-Learn but to do so first we have to impute missing values in data "
      ]
    },
    {
      "cell_type": "code",
      "execution_count": null,
      "metadata": {
        "colab": {
          "base_uri": "https://localhost:8080/"
        },
        "id": "ZkPVA89_X_Bq",
        "outputId": "353b15a8-2818-4d84-a341-98a62085c77e"
      },
      "outputs": [
        {
          "output_type": "execute_result",
          "data": {
            "text/plain": [
              "Graduate          12867\n",
              "Masters            4857\n",
              "High School        2239\n",
              "Phd                 468\n",
              "Primary School      344\n",
              "Name: education_level, dtype: int64"
            ]
          },
          "metadata": {},
          "execution_count": 14
        }
      ],
      "source": [
        "from sklearn.preprocessing import LabelEncoder\n",
        "\n",
        "#Making Copy of data just for example\n",
        "df_lb = df_pre.copy()\n",
        "df_lb['education_level'].value_counts()"
      ]
    },
    {
      "cell_type": "markdown",
      "metadata": {
        "id": "p7Lr7ufsX_Bq"
      },
      "source": [
        "The feature column education_level of data is in categorical form as we can see above output"
      ]
    },
    {
      "cell_type": "code",
      "execution_count": null,
      "metadata": {
        "id": "VR1111DQX_Bq"
      },
      "outputs": [],
      "source": [
        "#Fill nan values\n",
        "df_lb.loc[:, \"education_level\"] = df_lb['education_level'].fillna(\"NONE\")"
      ]
    },
    {
      "cell_type": "markdown",
      "metadata": {
        "id": "Aa7KCsVvX_Bq"
      },
      "source": [
        "In above code cell i just create null values as new category \"NONE\""
      ]
    },
    {
      "cell_type": "code",
      "execution_count": null,
      "metadata": {
        "colab": {
          "base_uri": "https://localhost:8080/"
        },
        "id": "l4V_W_0tX_Br",
        "outputId": "ea7edc04-1482-4030-f8f5-fe9feb0198f1"
      },
      "outputs": [
        {
          "output_type": "execute_result",
          "data": {
            "text/plain": [
              "0    12867\n",
              "2     4857\n",
              "1     2239\n",
              "3      512\n",
              "4      468\n",
              "5      344\n",
              "Name: education_level, dtype: int64"
            ]
          },
          "metadata": {},
          "execution_count": 16
        }
      ],
      "source": [
        "# initialize LabelEncoder\n",
        "lbl_enc = LabelEncoder()\n",
        "\n",
        "# fit label encoder and transform values on ord_2 column\n",
        "df_lb.loc[:, \"education_level\"] = lbl_enc.fit_transform(df_lb['education_level'].values)\n",
        "\n",
        "df_lb['education_level'].value_counts()"
      ]
    },
    {
      "cell_type": "markdown",
      "metadata": {
        "id": "I59hIA5dX_Br"
      },
      "source": [
        "The feature column education_level of data is now transformed into numarical form as we can see above\n",
        "\n",
        "But in this Notebook i am not going to use scikit-Learn LabelEncoder Due to following reasons\n",
        "\n",
        "1. Label Encoder encode data on basis of count but as mentioned above this data have lots of ordinal features means categories of some features might depend      upon some levels like in education_level feature\\ \n",
        "\n",
        "   We know that we should encode data in this order but label encoder encodes it on basis of count\n",
        "   \n",
        "      Primary School  \n",
        "      High School            \n",
        "      Graduate          \n",
        "      Masters           \n",
        "      Phd\n",
        "    \n",
        "2. To use label encoder first we have to create NULL values as new category and Our data have so many NULL values so we can not just create new Category for      NULL values because due to this data distribution could change\n",
        "\n"
      ]
    },
    {
      "cell_type": "code",
      "execution_count": null,
      "metadata": {
        "id": "B8haLnerX_Br"
      },
      "outputs": [],
      "source": [
        "# Making Dictionaries of ordinal features\n",
        "\n",
        "gender_map = {\n",
        "        'Female': 2,\n",
        "        'Male': 1,\n",
        "        'Other': 0\n",
        "         }\n",
        "\n",
        "relevent_experience_map = {\n",
        "    'Has relevent experience':  1,\n",
        "    'No relevent experience':    0\n",
        "}\n",
        "\n",
        "enrolled_university_map = {\n",
        "    'no_enrollment'   :  0,\n",
        "    'Full time course':    1, \n",
        "    'Part time course':    2 \n",
        "}\n",
        "    \n",
        "education_level_map = {\n",
        "    'Primary School' :    0,\n",
        "    'Graduate'       :    2,\n",
        "    'Masters'        :    3, \n",
        "    'High School'    :    1, \n",
        "    'Phd'            :    4\n",
        "    } \n",
        "    \n",
        "major_map ={ \n",
        "    'STEM'                   :    0,\n",
        "    'Business Degree'        :    1, \n",
        "    'Arts'                   :    2, \n",
        "    'Humanities'             :    3, \n",
        "    'No Major'               :    4, \n",
        "    'Other'                  :    5 \n",
        "}\n",
        "    \n",
        "experience_map = {\n",
        "    '<1'      :    0,\n",
        "    '1'       :    1, \n",
        "    '2'       :    2, \n",
        "    '3'       :    3, \n",
        "    '4'       :    4, \n",
        "    '5'       :    5,\n",
        "    '6'       :    6,\n",
        "    '7'       :    7,\n",
        "    '8'       :    8, \n",
        "    '9'       :    9, \n",
        "    '10'      :    10, \n",
        "    '11'      :    11,\n",
        "    '12'      :    12,\n",
        "    '13'      :    13, \n",
        "    '14'      :    14, \n",
        "    '15'      :    15, \n",
        "    '16'      :    16,\n",
        "    '17'      :    17,\n",
        "    '18'      :    18,\n",
        "    '19'      :    19, \n",
        "    '20'      :    20, \n",
        "    '>20'     :    21\n",
        "} \n",
        "    \n",
        "company_type_map = {\n",
        "    'Pvt Ltd'               :    0,\n",
        "    'Funded Startup'        :    1, \n",
        "    'Early Stage Startup'   :    2, \n",
        "    'Other'                 :    3, \n",
        "    'Public Sector'         :    4, \n",
        "    'NGO'                   :    5\n",
        "}\n",
        "\n",
        "company_size_map = {\n",
        "    '<10'          :    0,\n",
        "    '10/49'        :    1, \n",
        "    '100-500'      :    2, \n",
        "    '1000-4999'    :    3, \n",
        "    '10000+'       :    4, \n",
        "    '50-99'        :    5, \n",
        "    '500-999'      :    6, \n",
        "    '5000-9999'    :    7\n",
        "}\n",
        "    \n",
        "last_new_job_map = {\n",
        "    'never'        :    0,\n",
        "    '1'            :    1, \n",
        "    '2'            :    2, \n",
        "    '3'            :    3, \n",
        "    '4'            :    4, \n",
        "    '>4'           :    5\n",
        "}"
      ]
    },
    {
      "cell_type": "markdown",
      "metadata": {
        "id": "mK1nJ6MDX_Br"
      },
      "source": [
        "I am using mapping to transform categorical features into numarical features"
      ]
    },
    {
      "cell_type": "code",
      "execution_count": null,
      "metadata": {
        "id": "-o183UoUX_Bs"
      },
      "outputs": [],
      "source": [
        "# Transforming Categorical features into numarical features\n",
        "\n",
        "df_pre.loc[:,'education_level'] = df_pre['education_level'].map(education_level_map)\n",
        "df_pre.loc[:,'company_size'] = df_pre['company_size'].map(company_size_map)\n",
        "df_pre.loc[:,'company_type'] = df_pre['company_type'].map(company_type_map)\n",
        "df_pre.loc[:,'last_new_job'] = df_pre['last_new_job'].map(last_new_job_map)\n",
        "df_pre.loc[:,'major_discipline'] = df_pre['major_discipline'].map(major_map)\n",
        "df_pre.loc[:,'enrolled_university'] = df_pre['enrolled_university'].map(enrolled_university_map)\n",
        "df_pre.loc[:,'relevent_experience'] = df_pre['relevent_experience'].map(relevent_experience_map)\n",
        "df_pre.loc[:,'gender'] = df_pre['gender'].map(gender_map)\n",
        "df_pre.loc[:,'experience'] = df_pre['experience'].map(experience_map)\n",
        "\n",
        "#encoding city feature using label encoder\n",
        "lb_en = LabelEncoder()\n",
        "\n",
        "df_pre.loc[:,'city'] = lb_en.fit_transform(df_pre.loc[:,'city']) \n",
        "\n"
      ]
    },
    {
      "cell_type": "code",
      "execution_count": null,
      "metadata": {
        "colab": {
          "base_uri": "https://localhost:8080/",
          "height": 270
        },
        "id": "BbJ2JVJ4X_Bs",
        "outputId": "8bac2c76-c904-41d2-a2c0-733d8de3d73f"
      },
      "outputs": [
        {
          "output_type": "execute_result",
          "data": {
            "text/plain": [
              "   enrollee_id  city  city_development_index  gender  relevent_experience  \\\n",
              "0         8949     5                   0.920     1.0                    1   \n",
              "1        29725    77                   0.776     1.0                    0   \n",
              "2        11561    64                   0.624     NaN                    0   \n",
              "3        33241    14                   0.789     NaN                    0   \n",
              "4          666    50                   0.767     1.0                    1   \n",
              "\n",
              "   enrolled_university  education_level  major_discipline  experience  \\\n",
              "0                  0.0              2.0               0.0        21.0   \n",
              "1                  0.0              2.0               0.0        15.0   \n",
              "2                  1.0              2.0               0.0         5.0   \n",
              "3                  NaN              2.0               1.0         0.0   \n",
              "4                  0.0              3.0               0.0        21.0   \n",
              "\n",
              "   company_size  company_type  last_new_job  training_hours  target  \n",
              "0           NaN           NaN           1.0              36     1.0  \n",
              "1           5.0           0.0           5.0              47     0.0  \n",
              "2           NaN           NaN           0.0              83     0.0  \n",
              "3           NaN           0.0           0.0              52     1.0  \n",
              "4           5.0           1.0           4.0               8     0.0  "
            ],
            "text/html": [
              "\n",
              "  <div id=\"df-f0bf4721-0201-4050-a87d-88d6bf3aa82f\">\n",
              "    <div class=\"colab-df-container\">\n",
              "      <div>\n",
              "<style scoped>\n",
              "    .dataframe tbody tr th:only-of-type {\n",
              "        vertical-align: middle;\n",
              "    }\n",
              "\n",
              "    .dataframe tbody tr th {\n",
              "        vertical-align: top;\n",
              "    }\n",
              "\n",
              "    .dataframe thead th {\n",
              "        text-align: right;\n",
              "    }\n",
              "</style>\n",
              "<table border=\"1\" class=\"dataframe\">\n",
              "  <thead>\n",
              "    <tr style=\"text-align: right;\">\n",
              "      <th></th>\n",
              "      <th>enrollee_id</th>\n",
              "      <th>city</th>\n",
              "      <th>city_development_index</th>\n",
              "      <th>gender</th>\n",
              "      <th>relevent_experience</th>\n",
              "      <th>enrolled_university</th>\n",
              "      <th>education_level</th>\n",
              "      <th>major_discipline</th>\n",
              "      <th>experience</th>\n",
              "      <th>company_size</th>\n",
              "      <th>company_type</th>\n",
              "      <th>last_new_job</th>\n",
              "      <th>training_hours</th>\n",
              "      <th>target</th>\n",
              "    </tr>\n",
              "  </thead>\n",
              "  <tbody>\n",
              "    <tr>\n",
              "      <th>0</th>\n",
              "      <td>8949</td>\n",
              "      <td>5</td>\n",
              "      <td>0.920</td>\n",
              "      <td>1.0</td>\n",
              "      <td>1</td>\n",
              "      <td>0.0</td>\n",
              "      <td>2.0</td>\n",
              "      <td>0.0</td>\n",
              "      <td>21.0</td>\n",
              "      <td>NaN</td>\n",
              "      <td>NaN</td>\n",
              "      <td>1.0</td>\n",
              "      <td>36</td>\n",
              "      <td>1.0</td>\n",
              "    </tr>\n",
              "    <tr>\n",
              "      <th>1</th>\n",
              "      <td>29725</td>\n",
              "      <td>77</td>\n",
              "      <td>0.776</td>\n",
              "      <td>1.0</td>\n",
              "      <td>0</td>\n",
              "      <td>0.0</td>\n",
              "      <td>2.0</td>\n",
              "      <td>0.0</td>\n",
              "      <td>15.0</td>\n",
              "      <td>5.0</td>\n",
              "      <td>0.0</td>\n",
              "      <td>5.0</td>\n",
              "      <td>47</td>\n",
              "      <td>0.0</td>\n",
              "    </tr>\n",
              "    <tr>\n",
              "      <th>2</th>\n",
              "      <td>11561</td>\n",
              "      <td>64</td>\n",
              "      <td>0.624</td>\n",
              "      <td>NaN</td>\n",
              "      <td>0</td>\n",
              "      <td>1.0</td>\n",
              "      <td>2.0</td>\n",
              "      <td>0.0</td>\n",
              "      <td>5.0</td>\n",
              "      <td>NaN</td>\n",
              "      <td>NaN</td>\n",
              "      <td>0.0</td>\n",
              "      <td>83</td>\n",
              "      <td>0.0</td>\n",
              "    </tr>\n",
              "    <tr>\n",
              "      <th>3</th>\n",
              "      <td>33241</td>\n",
              "      <td>14</td>\n",
              "      <td>0.789</td>\n",
              "      <td>NaN</td>\n",
              "      <td>0</td>\n",
              "      <td>NaN</td>\n",
              "      <td>2.0</td>\n",
              "      <td>1.0</td>\n",
              "      <td>0.0</td>\n",
              "      <td>NaN</td>\n",
              "      <td>0.0</td>\n",
              "      <td>0.0</td>\n",
              "      <td>52</td>\n",
              "      <td>1.0</td>\n",
              "    </tr>\n",
              "    <tr>\n",
              "      <th>4</th>\n",
              "      <td>666</td>\n",
              "      <td>50</td>\n",
              "      <td>0.767</td>\n",
              "      <td>1.0</td>\n",
              "      <td>1</td>\n",
              "      <td>0.0</td>\n",
              "      <td>3.0</td>\n",
              "      <td>0.0</td>\n",
              "      <td>21.0</td>\n",
              "      <td>5.0</td>\n",
              "      <td>1.0</td>\n",
              "      <td>4.0</td>\n",
              "      <td>8</td>\n",
              "      <td>0.0</td>\n",
              "    </tr>\n",
              "  </tbody>\n",
              "</table>\n",
              "</div>\n",
              "      <button class=\"colab-df-convert\" onclick=\"convertToInteractive('df-f0bf4721-0201-4050-a87d-88d6bf3aa82f')\"\n",
              "              title=\"Convert this dataframe to an interactive table.\"\n",
              "              style=\"display:none;\">\n",
              "        \n",
              "  <svg xmlns=\"http://www.w3.org/2000/svg\" height=\"24px\"viewBox=\"0 0 24 24\"\n",
              "       width=\"24px\">\n",
              "    <path d=\"M0 0h24v24H0V0z\" fill=\"none\"/>\n",
              "    <path d=\"M18.56 5.44l.94 2.06.94-2.06 2.06-.94-2.06-.94-.94-2.06-.94 2.06-2.06.94zm-11 1L8.5 8.5l.94-2.06 2.06-.94-2.06-.94L8.5 2.5l-.94 2.06-2.06.94zm10 10l.94 2.06.94-2.06 2.06-.94-2.06-.94-.94-2.06-.94 2.06-2.06.94z\"/><path d=\"M17.41 7.96l-1.37-1.37c-.4-.4-.92-.59-1.43-.59-.52 0-1.04.2-1.43.59L10.3 9.45l-7.72 7.72c-.78.78-.78 2.05 0 2.83L4 21.41c.39.39.9.59 1.41.59.51 0 1.02-.2 1.41-.59l7.78-7.78 2.81-2.81c.8-.78.8-2.07 0-2.86zM5.41 20L4 18.59l7.72-7.72 1.47 1.35L5.41 20z\"/>\n",
              "  </svg>\n",
              "      </button>\n",
              "      \n",
              "  <style>\n",
              "    .colab-df-container {\n",
              "      display:flex;\n",
              "      flex-wrap:wrap;\n",
              "      gap: 12px;\n",
              "    }\n",
              "\n",
              "    .colab-df-convert {\n",
              "      background-color: #E8F0FE;\n",
              "      border: none;\n",
              "      border-radius: 50%;\n",
              "      cursor: pointer;\n",
              "      display: none;\n",
              "      fill: #1967D2;\n",
              "      height: 32px;\n",
              "      padding: 0 0 0 0;\n",
              "      width: 32px;\n",
              "    }\n",
              "\n",
              "    .colab-df-convert:hover {\n",
              "      background-color: #E2EBFA;\n",
              "      box-shadow: 0px 1px 2px rgba(60, 64, 67, 0.3), 0px 1px 3px 1px rgba(60, 64, 67, 0.15);\n",
              "      fill: #174EA6;\n",
              "    }\n",
              "\n",
              "    [theme=dark] .colab-df-convert {\n",
              "      background-color: #3B4455;\n",
              "      fill: #D2E3FC;\n",
              "    }\n",
              "\n",
              "    [theme=dark] .colab-df-convert:hover {\n",
              "      background-color: #434B5C;\n",
              "      box-shadow: 0px 1px 3px 1px rgba(0, 0, 0, 0.15);\n",
              "      filter: drop-shadow(0px 1px 2px rgba(0, 0, 0, 0.3));\n",
              "      fill: #FFFFFF;\n",
              "    }\n",
              "  </style>\n",
              "\n",
              "      <script>\n",
              "        const buttonEl =\n",
              "          document.querySelector('#df-f0bf4721-0201-4050-a87d-88d6bf3aa82f button.colab-df-convert');\n",
              "        buttonEl.style.display =\n",
              "          google.colab.kernel.accessAllowed ? 'block' : 'none';\n",
              "\n",
              "        async function convertToInteractive(key) {\n",
              "          const element = document.querySelector('#df-f0bf4721-0201-4050-a87d-88d6bf3aa82f');\n",
              "          const dataTable =\n",
              "            await google.colab.kernel.invokeFunction('convertToInteractive',\n",
              "                                                     [key], {});\n",
              "          if (!dataTable) return;\n",
              "\n",
              "          const docLinkHtml = 'Like what you see? Visit the ' +\n",
              "            '<a target=\"_blank\" href=https://colab.research.google.com/notebooks/data_table.ipynb>data table notebook</a>'\n",
              "            + ' to learn more about interactive tables.';\n",
              "          element.innerHTML = '';\n",
              "          dataTable['output_type'] = 'display_data';\n",
              "          await google.colab.output.renderOutput(dataTable, element);\n",
              "          const docLink = document.createElement('div');\n",
              "          docLink.innerHTML = docLinkHtml;\n",
              "          element.appendChild(docLink);\n",
              "        }\n",
              "      </script>\n",
              "    </div>\n",
              "  </div>\n",
              "  "
            ]
          },
          "metadata": {},
          "execution_count": 19
        }
      ],
      "source": [
        "df_pre.head()"
      ]
    },
    {
      "cell_type": "code",
      "execution_count": null,
      "metadata": {
        "colab": {
          "base_uri": "https://localhost:8080/"
        },
        "id": "XZ4pjx70X_Bs",
        "outputId": "ea4f2609-98a6-4bd2-fc70-9f65428834ae"
      },
      "outputs": [
        {
          "output_type": "stream",
          "name": "stdout",
          "text": [
            "<class 'pandas.core.frame.DataFrame'>\n",
            "RangeIndex: 21287 entries, 0 to 21286\n",
            "Data columns (total 14 columns):\n",
            " #   Column                  Non-Null Count  Dtype  \n",
            "---  ------                  --------------  -----  \n",
            " 0   enrollee_id             21287 non-null  int64  \n",
            " 1   city                    21287 non-null  int64  \n",
            " 2   city_development_index  21287 non-null  float64\n",
            " 3   gender                  16271 non-null  float64\n",
            " 4   relevent_experience     21287 non-null  int64  \n",
            " 5   enrolled_university     20870 non-null  float64\n",
            " 6   education_level         20775 non-null  float64\n",
            " 7   major_discipline        18162 non-null  float64\n",
            " 8   experience              21217 non-null  float64\n",
            " 9   company_size            14727 non-null  float64\n",
            " 10  company_type            14513 non-null  float64\n",
            " 11  last_new_job            20824 non-null  float64\n",
            " 12  training_hours          21287 non-null  int64  \n",
            " 13  target                  21287 non-null  float64\n",
            "dtypes: float64(10), int64(4)\n",
            "memory usage: 2.3 MB\n"
          ]
        }
      ],
      "source": [
        "df_pre.info()"
      ]
    },
    {
      "cell_type": "markdown",
      "metadata": {
        "id": "AcFjRpxhX_Bs"
      },
      "source": [
        "We can use this directly in many tree-based models like:\n",
        "*  Decision trees\n",
        "*  Random forest\n",
        "*  Extra Trees\n",
        "*  Or any kind of boosted trees model\n",
        "\n",
        "   * XGBoost\n",
        "   * GBM\n",
        "   * LightGBM\n",
        "   \n",
        "Generally, in tree-based models the scale of the features does not matter. This is because at each tree level, the score of a possible split will be equal whether the respective feature has been scaled or not.\n",
        "\n",
        "You can think of it like here: We're dealing with a binary classification problem and the feature we're splitting takes values from 0 to 1000. If you split it on 300, the samples <300 belong 90% to one category while those >300 belong 30% to one category. Now imaging this feature is scaled between 0 and 1. Again, if you split on 0.3, the sample <0.3 belong 90% to one category while those >0.3 belong 30% to one category.\n",
        "\n",
        "So you've changed the splitting point but the actual distribution of the samples remains the same regarding the target variable.\n",
        "\n",
        "Above example is taken from : [Why Normalization is not required for tree based models](https://www.kaggle.com/c/m5-forecasting-accuracy/discussion/160613)\n",
        "\n",
        "\n",
        "This type of encoding cannot be used in linear models, support vector machines or neural networks as they expect data to be normalized (or standardized). For these types of models, we can binarize the data.\n",
        "\n",
        "\n"
      ]
    },
    {
      "cell_type": "markdown",
      "metadata": {
        "id": "3yEvb9pfX_Bs"
      },
      "source": [
        "#### Approch For Categorical Features(Summary)\n",
        "\n",
        "1. Fill nan values with some value like NONE to which we can deal later \n",
        "2. Then convert categorical features in numarical using label encoder\n",
        "\n",
        "**NOTE : If you want to use some tree based algorithm than these much steps are sufficent**\n",
        "\n",
        "3. In case of non tree based model do One Hot Encoding of numarical feature acieved from step 2 and make sparse = True in      One Hot Encoding\n",
        "4. Now select model and train your data"
      ]
    },
    {
      "cell_type": "markdown",
      "metadata": {
        "id": "sjfA1lRKX_Bs"
      },
      "source": [
        "# Various Approaches to Handle Missing values in Categorical Features <a id = \"2\" ></a>\n",
        "\n",
        "1. You can simply drop columns having very large amount of null values\n",
        "2. Drop entire row if it has some null values (But this approach is **not Recommendable** because then we will lose lots of precious data)\n",
        "3. First convert none null categorical data into numarical form and then simply fill mean, mode or median value inplace of null values\n",
        "4. First convert none null categorical data into numarical form and then with the help of k-Nearest Neighbors algorithm find missing values and impute them in    data\n",
        "5. Another way of imputing missing values in a column would be to train a regression model that tries to predict missing values in a column based on other        columns.\n",
        "\n",
        "**In This notebook i am using k-Nearest Neighbors algorithm to fill missing values**\n"
      ]
    },
    {
      "cell_type": "markdown",
      "metadata": {
        "id": "g2nmMVFHX_Bs"
      },
      "source": [
        "Below i am plotting count of values per columns of dataset. I also have sorted columns based on missing values."
      ]
    },
    {
      "cell_type": "code",
      "execution_count": null,
      "metadata": {
        "colab": {
          "base_uri": "https://localhost:8080/",
          "height": 465
        },
        "id": "JT14RYQyX_Bt",
        "outputId": "99911050-ac1a-4f37-d4fe-f219fcc29fc6"
      },
      "outputs": [
        {
          "output_type": "display_data",
          "data": {
            "text/plain": [
              "<Figure size 720x360 with 3 Axes>"
            ],
            "image/png": "[encoded data removed]"
          },
          "metadata": {}
        }
      ],
      "source": [
        "missingno.bar(df_pre,color=\"dodgerblue\", sort=\"ascending\", figsize=(10,5), fontsize=12);"
      ]
    },
    {
      "cell_type": "code",
      "execution_count": null,
      "metadata": {
        "colab": {
          "base_uri": "https://localhost:8080/"
        },
        "id": "f0blRy6vX_Bt",
        "outputId": "2b54073b-6184-46b1-d8f4-4ad22f1ffbf3"
      },
      "outputs": [
        {
          "output_type": "stream",
          "name": "stdout",
          "text": [
            "> enrollee_id , Missing: 0 (0.0%)\n",
            "> city , Missing: 0 (0.0%)\n",
            "> city_development_index , Missing: 0 (0.0%)\n",
            "> gender , Missing: 5016 (23.6%)\n",
            "> relevent_experience , Missing: 0 (0.0%)\n",
            "> enrolled_university , Missing: 417 (2.0%)\n",
            "> education_level , Missing: 512 (2.4%)\n",
            "> major_discipline , Missing: 3125 (14.7%)\n",
            "> experience , Missing: 70 (0.3%)\n",
            "> company_size , Missing: 6560 (30.8%)\n",
            "> company_type , Missing: 6774 (31.8%)\n",
            "> last_new_job , Missing: 463 (2.2%)\n",
            "> training_hours , Missing: 0 (0.0%)\n",
            "> target , Missing: 0 (0.0%)\n"
          ]
        }
      ],
      "source": [
        "#Just to check number of null values of every column in data\n",
        "\n",
        "for col in df_pre.columns:\n",
        "    null_val = df_pre[col].isnull().sum()\n",
        "    null_prec = (null_val * 100) / df_pre.shape[0]\n",
        "    print('> %s , Missing: %d (%.1f%%)' % (col, null_val, null_prec))"
      ]
    },
    {
      "cell_type": "markdown",
      "metadata": {
        "id": "8s90y3JuX_Bt"
      },
      "source": [
        "Below we are plotting heatmap showing nullity correlation between various columns of dataset.\n",
        "\n",
        "The nullity correlation ranges from -1 to 1.\n",
        "\n",
        "* -1 - Exact Negative correlation represents that if the value of one variable is present then the value of other variables is definitely absent.\n",
        "* 0 - No correlation represents that variables values present or absent do not have any effect on one another.\n",
        "* 1 - Exact Positive correlation represents that if the value of one variable is present then the value of the other is definitely present."
      ]
    },
    {
      "cell_type": "code",
      "execution_count": null,
      "metadata": {
        "colab": {
          "base_uri": "https://localhost:8080/",
          "height": 404
        },
        "id": "xBDmvVDcX_Bt",
        "outputId": "155a012c-2bb7-4af1-b9e3-1007bcc2cf6d"
      },
      "outputs": [
        {
          "output_type": "display_data",
          "data": {
            "text/plain": [
              "<Figure size 720x360 with 2 Axes>"
            ],
            "image/png": "[encoded data removed]"
          },
          "metadata": {}
        }
      ],
      "source": [
        "missingno.heatmap(df_pre, cmap=\"RdYlGn\", figsize=(10,5), fontsize=12);"
      ]
    },
    {
      "cell_type": "markdown",
      "metadata": {
        "id": "JblTri7QX_Bt"
      },
      "source": [
        "# <center> k-Nearest Neighbour Imputation <a id = \"3\" ></a> </center>\n",
        "\n",
        "\n",
        "A fancy way of filling in the missing values would be to use a **k-nearest neighbour** method. You can select a sample with missing values and find the nearest\n",
        "neighbours utilising some kind of distance metric, for example, Euclidean distance. Then you can take the mean of all nearest neighbours and fill up the missing value. You can use the KNN imputer implementation for filling missing values like this.\n",
        "\n",
        "![image1](https://static.javatpoint.com/tutorial/machine-learning/images/k-nearest-neighbor-algorithm-for-machine-learning2.png)\n",
        "\n",
        "\n",
        "[K-Nearest Neighbors (KNN) Algorithm for Machine Learning](https://medium.com/capital-one-tech/k-nearest-neighbors-knn-algorithm-for-machine-learning-e883219c8f26)\n",
        "\n",
        "\n",
        "### How it works?\n",
        "\n",
        "Step-1: Select the K number of the neighbors\n",
        "        \n",
        "let say we select K = 5\n",
        "        \n",
        "![image2](https://static.javatpoint.com/tutorial/machine-learning/images/k-nearest-neighbor-algorithm-for-machine-learning3.png) \n",
        "\n",
        "\n",
        "Step-2: Calculate the Euclidean distance of K number of neighbors\n",
        "\n",
        "In this step we search for those k = 5 neighbors having minimum Euclidean Distance from unknown data point\n",
        "\n",
        "\n",
        "![Image4](https://static.javatpoint.com/tutorial/machine-learning/images/k-nearest-neighbor-algorithm-for-machine-learning4.png)\n",
        "\n",
        "        \n",
        "Step-3: Among these k neighbors, count the number of the data points in each category.\n",
        "\n",
        "![image3](https://static.javatpoint.com/tutorial/machine-learning/images/k-nearest-neighbor-algorithm-for-machine-learning5.png)\n",
        "\n",
        "\n",
        "Step-4: Assign the new data points to that category for which the number of the neighbor is maximum.\n",
        "\n",
        "You can also visit below given youtube video link to understand it bit nicely\n",
        "\n",
        "[Step-by-Step procedure of KNN Imputer for imputing missing values](https://www.youtube.com/watch?v=AHBHMQyD75U)"
      ]
    },
    {
      "cell_type": "code",
      "execution_count": null,
      "metadata": {
        "id": "skj8soFcX_Bt"
      },
      "outputs": [],
      "source": [
        "df_pre1 = df_pre.copy()"
      ]
    },
    {
      "cell_type": "code",
      "execution_count": null,
      "metadata": {
        "id": "E_5Yf-KSX_Bt"
      },
      "outputs": [],
      "source": [
        "knn_imputer = KNNImputer(n_neighbors = 3)\n",
        "\n",
        "X = np.round(knn_imputer.fit_transform(df_pre1))\n",
        "df_pre1 = pd.DataFrame(X, columns = df_pre1.columns)"
      ]
    },
    {
      "cell_type": "code",
      "execution_count": null,
      "metadata": {
        "colab": {
          "base_uri": "https://localhost:8080/"
        },
        "id": "pl6BZSkTX_Bu",
        "outputId": "d386aa85-0539-4b78-bd43-4b5f623740ef"
      },
      "outputs": [
        {
          "output_type": "stream",
          "name": "stdout",
          "text": [
            "<class 'pandas.core.frame.DataFrame'>\n",
            "RangeIndex: 21287 entries, 0 to 21286\n",
            "Data columns (total 14 columns):\n",
            " #   Column                  Non-Null Count  Dtype  \n",
            "---  ------                  --------------  -----  \n",
            " 0   enrollee_id             21287 non-null  float64\n",
            " 1   city                    21287 non-null  float64\n",
            " 2   city_development_index  21287 non-null  float64\n",
            " 3   gender                  21287 non-null  float64\n",
            " 4   relevent_experience     21287 non-null  float64\n",
            " 5   enrolled_university     21287 non-null  float64\n",
            " 6   education_level         21287 non-null  float64\n",
            " 7   major_discipline        21287 non-null  float64\n",
            " 8   experience              21287 non-null  float64\n",
            " 9   company_size            21287 non-null  float64\n",
            " 10  company_type            21287 non-null  float64\n",
            " 11  last_new_job            21287 non-null  float64\n",
            " 12  training_hours          21287 non-null  float64\n",
            " 13  target                  21287 non-null  float64\n",
            "dtypes: float64(14)\n",
            "memory usage: 2.3 MB\n"
          ]
        }
      ],
      "source": [
        "df_pre1.info()"
      ]
    },
    {
      "cell_type": "code",
      "execution_count": null,
      "metadata": {
        "colab": {
          "base_uri": "https://localhost:8080/",
          "height": 270
        },
        "id": "sQKiKFAEX_Bu",
        "outputId": "da8607b0-c79f-4660-a23b-2f972dc79560"
      },
      "outputs": [
        {
          "output_type": "execute_result",
          "data": {
            "text/plain": [
              "   enrollee_id  city  city_development_index  gender  relevent_experience  \\\n",
              "0       8949.0   5.0                     1.0     1.0                  1.0   \n",
              "1      29725.0  77.0                     1.0     1.0                  0.0   \n",
              "2      11561.0  64.0                     1.0     1.0                  0.0   \n",
              "3      33241.0  14.0                     1.0     1.0                  0.0   \n",
              "4        666.0  50.0                     1.0     1.0                  1.0   \n",
              "\n",
              "   enrolled_university  education_level  major_discipline  experience  \\\n",
              "0                  0.0              2.0               0.0        21.0   \n",
              "1                  0.0              2.0               0.0        15.0   \n",
              "2                  1.0              2.0               0.0         5.0   \n",
              "3                  1.0              2.0               1.0         0.0   \n",
              "4                  0.0              3.0               0.0        21.0   \n",
              "\n",
              "   company_size  company_type  last_new_job  training_hours  target  \n",
              "0           4.0           0.0           1.0            36.0     1.0  \n",
              "1           5.0           0.0           5.0            47.0     0.0  \n",
              "2           1.0           0.0           0.0            83.0     0.0  \n",
              "3           1.0           0.0           0.0            52.0     1.0  \n",
              "4           5.0           1.0           4.0             8.0     0.0  "
            ],
            "text/html": [
              "\n",
              "  <div id=\"df-ba21a168-b7a5-4cc8-9fbb-19f4c828366d\">\n",
              "    <div class=\"colab-df-container\">\n",
              "      <div>\n",
              "<style scoped>\n",
              "    .dataframe tbody tr th:only-of-type {\n",
              "        vertical-align: middle;\n",
              "    }\n",
              "\n",
              "    .dataframe tbody tr th {\n",
              "        vertical-align: top;\n",
              "    }\n",
              "\n",
              "    .dataframe thead th {\n",
              "        text-align: right;\n",
              "    }\n",
              "</style>\n",
              "<table border=\"1\" class=\"dataframe\">\n",
              "  <thead>\n",
              "    <tr style=\"text-align: right;\">\n",
              "      <th></th>\n",
              "      <th>enrollee_id</th>\n",
              "      <th>city</th>\n",
              "      <th>city_development_index</th>\n",
              "      <th>gender</th>\n",
              "      <th>relevent_experience</th>\n",
              "      <th>enrolled_university</th>\n",
              "      <th>education_level</th>\n",
              "      <th>major_discipline</th>\n",
              "      <th>experience</th>\n",
              "      <th>company_size</th>\n",
              "      <th>company_type</th>\n",
              "      <th>last_new_job</th>\n",
              "      <th>training_hours</th>\n",
              "      <th>target</th>\n",
              "    </tr>\n",
              "  </thead>\n",
              "  <tbody>\n",
              "    <tr>\n",
              "      <th>0</th>\n",
              "      <td>8949.0</td>\n",
              "      <td>5.0</td>\n",
              "      <td>1.0</td>\n",
              "      <td>1.0</td>\n",
              "      <td>1.0</td>\n",
              "      <td>0.0</td>\n",
              "      <td>2.0</td>\n",
              "      <td>0.0</td>\n",
              "      <td>21.0</td>\n",
              "      <td>4.0</td>\n",
              "      <td>0.0</td>\n",
              "      <td>1.0</td>\n",
              "      <td>36.0</td>\n",
              "      <td>1.0</td>\n",
              "    </tr>\n",
              "    <tr>\n",
              "      <th>1</th>\n",
              "      <td>29725.0</td>\n",
              "      <td>77.0</td>\n",
              "      <td>1.0</td>\n",
              "      <td>1.0</td>\n",
              "      <td>0.0</td>\n",
              "      <td>0.0</td>\n",
              "      <td>2.0</td>\n",
              "      <td>0.0</td>\n",
              "      <td>15.0</td>\n",
              "      <td>5.0</td>\n",
              "      <td>0.0</td>\n",
              "      <td>5.0</td>\n",
              "      <td>47.0</td>\n",
              "      <td>0.0</td>\n",
              "    </tr>\n",
              "    <tr>\n",
              "      <th>2</th>\n",
              "      <td>11561.0</td>\n",
              "      <td>64.0</td>\n",
              "      <td>1.0</td>\n",
              "      <td>1.0</td>\n",
              "      <td>0.0</td>\n",
              "      <td>1.0</td>\n",
              "      <td>2.0</td>\n",
              "      <td>0.0</td>\n",
              "      <td>5.0</td>\n",
              "      <td>1.0</td>\n",
              "      <td>0.0</td>\n",
              "      <td>0.0</td>\n",
              "      <td>83.0</td>\n",
              "      <td>0.0</td>\n",
              "    </tr>\n",
              "    <tr>\n",
              "      <th>3</th>\n",
              "      <td>33241.0</td>\n",
              "      <td>14.0</td>\n",
              "      <td>1.0</td>\n",
              "      <td>1.0</td>\n",
              "      <td>0.0</td>\n",
              "      <td>1.0</td>\n",
              "      <td>2.0</td>\n",
              "      <td>1.0</td>\n",
              "      <td>0.0</td>\n",
              "      <td>1.0</td>\n",
              "      <td>0.0</td>\n",
              "      <td>0.0</td>\n",
              "      <td>52.0</td>\n",
              "      <td>1.0</td>\n",
              "    </tr>\n",
              "    <tr>\n",
              "      <th>4</th>\n",
              "      <td>666.0</td>\n",
              "      <td>50.0</td>\n",
              "      <td>1.0</td>\n",
              "      <td>1.0</td>\n",
              "      <td>1.0</td>\n",
              "      <td>0.0</td>\n",
              "      <td>3.0</td>\n",
              "      <td>0.0</td>\n",
              "      <td>21.0</td>\n",
              "      <td>5.0</td>\n",
              "      <td>1.0</td>\n",
              "      <td>4.0</td>\n",
              "      <td>8.0</td>\n",
              "      <td>0.0</td>\n",
              "    </tr>\n",
              "  </tbody>\n",
              "</table>\n",
              "</div>\n",
              "      <button class=\"colab-df-convert\" onclick=\"convertToInteractive('df-ba21a168-b7a5-4cc8-9fbb-19f4c828366d')\"\n",
              "              title=\"Convert this dataframe to an interactive table.\"\n",
              "              style=\"display:none;\">\n",
              "        \n",
              "  <svg xmlns=\"http://www.w3.org/2000/svg\" height=\"24px\"viewBox=\"0 0 24 24\"\n",
              "       width=\"24px\">\n",
              "    <path d=\"M0 0h24v24H0V0z\" fill=\"none\"/>\n",
              "    <path d=\"M18.56 5.44l.94 2.06.94-2.06 2.06-.94-2.06-.94-.94-2.06-.94 2.06-2.06.94zm-11 1L8.5 8.5l.94-2.06 2.06-.94-2.06-.94L8.5 2.5l-.94 2.06-2.06.94zm10 10l.94 2.06.94-2.06 2.06-.94-2.06-.94-.94-2.06-.94 2.06-2.06.94z\"/><path d=\"M17.41 7.96l-1.37-1.37c-.4-.4-.92-.59-1.43-.59-.52 0-1.04.2-1.43.59L10.3 9.45l-7.72 7.72c-.78.78-.78 2.05 0 2.83L4 21.41c.39.39.9.59 1.41.59.51 0 1.02-.2 1.41-.59l7.78-7.78 2.81-2.81c.8-.78.8-2.07 0-2.86zM5.41 20L4 18.59l7.72-7.72 1.47 1.35L5.41 20z\"/>\n",
              "  </svg>\n",
              "      </button>\n",
              "      \n",
              "  <style>\n",
              "    .colab-df-container {\n",
              "      display:flex;\n",
              "      flex-wrap:wrap;\n",
              "      gap: 12px;\n",
              "    }\n",
              "\n",
              "    .colab-df-convert {\n",
              "      background-color: #E8F0FE;\n",
              "      border: none;\n",
              "      border-radius: 50%;\n",
              "      cursor: pointer;\n",
              "      display: none;\n",
              "      fill: #1967D2;\n",
              "      height: 32px;\n",
              "      padding: 0 0 0 0;\n",
              "      width: 32px;\n",
              "    }\n",
              "\n",
              "    .colab-df-convert:hover {\n",
              "      background-color: #E2EBFA;\n",
              "      box-shadow: 0px 1px 2px rgba(60, 64, 67, 0.3), 0px 1px 3px 1px rgba(60, 64, 67, 0.15);\n",
              "      fill: #174EA6;\n",
              "    }\n",
              "\n",
              "    [theme=dark] .colab-df-convert {\n",
              "      background-color: #3B4455;\n",
              "      fill: #D2E3FC;\n",
              "    }\n",
              "\n",
              "    [theme=dark] .colab-df-convert:hover {\n",
              "      background-color: #434B5C;\n",
              "      box-shadow: 0px 1px 3px 1px rgba(0, 0, 0, 0.15);\n",
              "      filter: drop-shadow(0px 1px 2px rgba(0, 0, 0, 0.3));\n",
              "      fill: #FFFFFF;\n",
              "    }\n",
              "  </style>\n",
              "\n",
              "      <script>\n",
              "        const buttonEl =\n",
              "          document.querySelector('#df-ba21a168-b7a5-4cc8-9fbb-19f4c828366d button.colab-df-convert');\n",
              "        buttonEl.style.display =\n",
              "          google.colab.kernel.accessAllowed ? 'block' : 'none';\n",
              "\n",
              "        async function convertToInteractive(key) {\n",
              "          const element = document.querySelector('#df-ba21a168-b7a5-4cc8-9fbb-19f4c828366d');\n",
              "          const dataTable =\n",
              "            await google.colab.kernel.invokeFunction('convertToInteractive',\n",
              "                                                     [key], {});\n",
              "          if (!dataTable) return;\n",
              "\n",
              "          const docLinkHtml = 'Like what you see? Visit the ' +\n",
              "            '<a target=\"_blank\" href=https://colab.research.google.com/notebooks/data_table.ipynb>data table notebook</a>'\n",
              "            + ' to learn more about interactive tables.';\n",
              "          element.innerHTML = '';\n",
              "          dataTable['output_type'] = 'display_data';\n",
              "          await google.colab.output.renderOutput(dataTable, element);\n",
              "          const docLink = document.createElement('div');\n",
              "          docLink.innerHTML = docLinkHtml;\n",
              "          element.appendChild(docLink);\n",
              "        }\n",
              "      </script>\n",
              "    </div>\n",
              "  </div>\n",
              "  "
            ]
          },
          "metadata": {},
          "execution_count": 120
        }
      ],
      "source": [
        "df_pre1.head()"
      ]
    },
    {
      "cell_type": "markdown",
      "metadata": {
        "id": "WpZVNTKhX_Bv"
      },
      "source": [
        "But wait as you can observe city_development_index feature values were in continues form before imputation and after imputation now they are in discrete form.\n",
        "As you may also noticed i was rounding values after imputation because of this city_development_index values converted into discrete form\n",
        "\n",
        "I am plotting kernel density estimate plot just to check distribution of city_development_index feature before and after imputation. You can plot KDE plots for every feature to check effect of imputaion on data"
      ]
    },
    {
      "cell_type": "code",
      "execution_count": null,
      "metadata": {
        "colab": {
          "base_uri": "https://localhost:8080/",
          "height": 474
        },
        "id": "NYjoCmg4X_Bv",
        "outputId": "30ac20da-aa69-41f2-8b10-a3afd5c56694"
      },
      "outputs": [
        {
          "output_type": "display_data",
          "data": {
            "text/plain": [
              "<Figure size 1080x576 with 1 Axes>"
            ],
            "image/png": "[encoded data removed]"
          },
          "metadata": {}
        }
      ],
      "source": [
        "plt.figure(figsize = (15,8))\n",
        "plt.title('Before Imputation')\n",
        "df_pre['city_development_index'].plot(kind = 'kde')\n",
        "plt.show()"
      ]
    },
    {
      "cell_type": "code",
      "execution_count": null,
      "metadata": {
        "colab": {
          "base_uri": "https://localhost:8080/",
          "height": 474
        },
        "id": "1IQ6aN37X_Bv",
        "outputId": "34774110-49b4-4754-dd6d-1dd14ea6c91f"
      },
      "outputs": [
        {
          "output_type": "display_data",
          "data": {
            "text/plain": [
              "<Figure size 1080x576 with 1 Axes>"
            ],
            "image/png": "[encoded data removed]"
          },
          "metadata": {}
        }
      ],
      "source": [
        "plt.figure(figsize = (15,8))\n",
        "plt.title('After Imputation')\n",
        "df_pre1['city_development_index'].plot(kind = 'kde')\n",
        "plt.show()"
      ]
    },
    {
      "cell_type": "markdown",
      "metadata": {
        "id": "jqY4qzQyX_Bw"
      },
      "source": [
        "So rather than using imputation on whole dataset just use it on those features having missing values."
      ]
    },
    {
      "cell_type": "code",
      "execution_count": null,
      "metadata": {
        "colab": {
          "base_uri": "https://localhost:8080/"
        },
        "id": "gPLa5eSHX_Bw",
        "outputId": "3866e912-4048-48f3-e5a3-015df0bf1e75"
      },
      "outputs": [
        {
          "output_type": "execute_result",
          "data": {
            "text/plain": [
              "['gender',\n",
              " 'enrolled_university',\n",
              " 'education_level',\n",
              " 'major_discipline',\n",
              " 'experience',\n",
              " 'company_size',\n",
              " 'company_type',\n",
              " 'last_new_job']"
            ]
          },
          "metadata": {},
          "execution_count": 123
        }
      ],
      "source": [
        "# missing columns\n",
        "\n",
        "missing_cols = df_pre.columns[df_pre.isna().any()].tolist()\n",
        "missing_cols"
      ]
    },
    {
      "cell_type": "markdown",
      "metadata": {
        "id": "LWhCm9HtX_Bw"
      },
      "source": [
        "Above shown columns have missing values and all 8 are categorical features\n",
        "\n",
        "Now i would like make two different dataframes one having features with missing values and second having features without missing values. But there will be one common column enrollee_id so that later we can perform inner join on both dataframes"
      ]
    },
    {
      "cell_type": "code",
      "execution_count": null,
      "metadata": {
        "id": "xr3z5ZWEX_Bw"
      },
      "outputs": [],
      "source": [
        "#dataframe having features with missing values\n",
        "df_missing = df_pre[['enrollee_id'] + missing_cols]\n",
        "\n",
        "#dataframe having features without missing values\n",
        "df_non_missing = df_pre.drop(missing_cols, axis = 1)"
      ]
    },
    {
      "cell_type": "code",
      "execution_count": null,
      "metadata": {
        "id": "vHOxgP6fX_Bw"
      },
      "outputs": [],
      "source": [
        "#k-Nearest Neighbour Imputation\n",
        "\n",
        "knn_imputer = KNNImputer(n_neighbors = 3)\n",
        "\n",
        "X = np.round(knn_imputer.fit_transform(df_missing))\n",
        "#Rounding them because these are categorical features\n",
        "\n",
        "df_missing = pd.DataFrame(X, columns = df_missing.columns)"
      ]
    },
    {
      "cell_type": "code",
      "execution_count": null,
      "metadata": {
        "id": "NFntAVx3X_Bw"
      },
      "outputs": [],
      "source": [
        "#now lets join both dataframes \n",
        "\n",
        "df_pre2 = pd.merge(df_missing, df_non_missing, on = 'enrollee_id')"
      ]
    },
    {
      "cell_type": "markdown",
      "metadata": {
        "id": "DoI_UN66X_Bw"
      },
      "source": [
        "If you remember i did concatenation between train and test data before preprocessing. Now after preprocessing of data we can seprate train and test data"
      ]
    },
    {
      "cell_type": "code",
      "execution_count": null,
      "metadata": {
        "id": "NQRFepAPX_Bw"
      },
      "outputs": [],
      "source": [
        "train = df_pre2[df_pre2['target'] != -1].reset_index(drop = True)\n",
        "test = df_pre2[df_pre2['target'] == -1].reset_index(drop = True)\n",
        "\n",
        "X = train.drop(['enrollee_id', 'target'], axis = 1)\n",
        "Y = train['target']\n",
        "\n",
        "# drop fake target feature from test data \n",
        "test = test.drop('target', axis = 1)"
      ]
    },
    {
      "cell_type": "markdown",
      "metadata": {
        "id": "TmGJx93NX_Bw"
      },
      "source": [
        "# Evaluation Metrics <a id = \"4\" ></a>\n",
        "\n",
        "I think before selecting an optimal model for given data first we have to analayze target feature. Target Feature can be discrete in case of classification problem or continuous in case of Regression Problem\n",
        "\n",
        "If we talk briefly about classification problems, the most common metrics used are:\n",
        "\n",
        "\n",
        "- **[Accuracy](https://blog.exsilio.com/all/accuracy-precision-recall-f1-score-interpretation-of-performance-measures/)** : It is one of the most straightforward metrics used in machine learning. It defines how accurate your model is. For example, if you build a model that classifies 90 samples accurately, your accuracy is 90% or 0.90. If only 83 samples are classified correctly, the accuracy of your model is 83% or 0.83. Simple.\n",
        "             \n",
        "     **[Scikit-learn user guide for accuracy](https://scikit-learn.org/stable/modules/generated/sklearn.metrics.accuracy_score.html)**\n",
        "     \n",
        "\n",
        "- **[Precision](https://blog.exsilio.com/all/accuracy-precision-recall-f1-score-interpretation-of-performance-measures/)** :  Precision is the ratio of correctly predicted positive observations to the total predicted positive observations. The question that this metric answer is of all passengers that labeled as survived, how many actually survived? High precision relates to the low false positive rate. We have got 0.788 precision which is pretty good\n",
        "\n",
        "     **[True Positives (TP)](https://blog.exsilio.com/all/accuracy-precision-recall-f1-score-interpretation-of-performance-measures/)** - These are the correctly predicted positive values which means that the value of actual class is yes and the value of predicted  class is also yes. E.g. if actual class value indicates that this passenger survived and predicted class tells you the same thing.\n",
        "\n",
        "     **[True Negatives (TN)](https://blog.exsilio.com/all/accuracy-precision-recall-f1-score-interpretation-of-performance-measures/)** - These are the correctly predicted negative values which means that the value of actual class is no and value of predicted class is also no. E.g. if actual class says this passenger did not survive and predicted class tells you the same thing.\n",
        "\n",
        "     False positives and false negatives, these values occur when your actual class contradicts with the predicted class.\n",
        "\n",
        "     **[False Positives (FP)](https://blog.exsilio.com/all/accuracy-precision-recall-f1-score-interpretation-of-performance-measures/)** – When actual class is no and predicted class is yes. E.g. if actual class says this passenger did not survive but predicted class tells you that this passenger will survive.\n",
        "\n",
        "     **[False Negatives (FN)](https://blog.exsilio.com/all/accuracy-precision-recall-f1-score-interpretation-of-performance-measures/)** – When actual class is yes but predicted class in no. E.g. if actual class value indicates that this passenger survived and predicted class tells you that passenger will die.\n",
        "\n",
        "     **[Scikit-learn user guide for Precision ](https://scikit-learn.org/stable/modules/generated/sklearn.metrics.precision_score.html#sklearn.metrics.precision_score)**\n",
        "     \n",
        "     ![](https://2.bp.blogspot.com/-EvSXDotTOwc/XMfeOGZ-CVI/AAAAAAAAEiE/oePFfvhfOQM11dgRn9FkPxlegCXbgOF4QCLcBGAs/s1600/confusionMatrxiUpdated.jpg)     \n",
        "     \n",
        "\n",
        "- **[Recall(Sensitivity)](https://blog.exsilio.com/all/accuracy-precision-recall-f1-score-interpretation-of-performance-measures/)** : Recall is the ratio of correctly predicted positive observations to the all observations in actual class - yes. The question recall answers is: Of all the passengers that truly survived, how many did we label? We have got recall of 0.631 which is good for this model as it’s above 0.5.\n",
        "\n",
        "     **[Scikit-learn user guide for Recall](https://scikit-learn.org/stable/modules/generated/sklearn.metrics.recall_score.html#sklearn.metrics.recall_score)**\n",
        "\n",
        "\n",
        "- **[Confusion Matrix](https://www.geeksforgeeks.org/confusion-matrix-machine-learning/)** : A much better way to evaluate the performance of a classifier is to look at the confusion matrix. The general idea is to count the number of times instances of class A are classified as class B. For example, to know the number of times the classifier confused images of 5s with 3s, you would look in the 5th row and 3rd column of the confusion matrix.\n",
        "\n",
        "    **[Scikit-Learn user guide for Confusion Matrix](https://scikit-learn.org/stable/modules/generated/sklearn.metrics.confusion_matrix.html)**\n",
        "     \n",
        "     \n",
        "- **[F1 score (F1)](https://blog.exsilio.com/all/accuracy-precision-recall-f1-score-interpretation-of-performance-measures/)** : F1 Score is the weighted average of Precision and Recall. Therefore, this score takes both false positives and false negatives into account. Intuitively it is not as easy to understand as accuracy, but F1 is usually more useful than accuracy, especially if you have an uneven class distribution. Accuracy works best if false positives and false negatives have similar cost. If the cost of false positives and false negatives are very different, it’s better to look at both Precision and Recall. In our case, F1 score is 0.701. \n",
        "\n",
        "     **[Scikit-learn user guide for F1 score](https://scikit-learn.org/stable/modules/generated/sklearn.metrics.f1_score.html)**\n",
        "\n",
        "\n",
        "- **[Area under the ROC (Receiver Operating Characteristic) curve](https://machinelearningmastery.com/roc-curves-and-precision-recall-curves-for-classification-in-python/)** : AUC - ROC curve is a performance measurement for the classification problems at various threshold settings. ROC is a probability curve and AUC represents the degree or measure of separability. It tells how much the model is capable of distinguishing between classes. Higher the AUC, the better the model is at predicting 0s as 0s and 1s as 1s. By analogy, the Higher the AUC, the better the model is at distinguishing between patients with the disease and no disease.\n",
        "\n",
        "     **[Scikit-learn user guide for AUC under the ROC curve](https://scikit-learn.org/stable/modules/generated/sklearn.metrics.roc_auc_score.html)**\n",
        "\n",
        "\n",
        "\n",
        "\n",
        "\n",
        "\n",
        "**When it comes to regression, the most commonly used [evaluation metrics](https://towardsdatascience.com/evaluation-metrics-model-selection-in-linear-regression-73c7573208be) are:**\n",
        "\n",
        "\n",
        "- Mean absolute error (MAE)\n",
        "- Mean squared error (MSE)\n",
        "- Root mean squared error (RMSE)\n",
        "- Root mean squared logarithmic error (RMSLE)\n",
        "- Mean percentage error (MPE)\n",
        "- Mean absolute percentage error (MAPE)\n",
        "- R2\n",
        "\n",
        " **[Scikit-learn user guide for regression evaluation metrics](https://scikit-learn.org/stable/modules/model_evaluation.html)**"
      ]
    },
    {
      "cell_type": "code",
      "execution_count": null,
      "metadata": {
        "id": "97Ar_aJOX_Bx",
        "outputId": "f05dcded-d06f-4ee5-b7ae-14aa172c1904",
        "colab": {
          "base_uri": "https://localhost:8080/",
          "height": 296
        }
      },
      "outputs": [
        {
          "output_type": "execute_result",
          "data": {
            "text/plain": [
              "<matplotlib.axes._subplots.AxesSubplot at 0x7faef5a7ef50>"
            ]
          },
          "metadata": {},
          "execution_count": 128
        },
        {
          "output_type": "display_data",
          "data": {
            "text/plain": [
              "<Figure size 432x288 with 1 Axes>"
            ],
            "image/png": "[encoded data removed]"
          },
          "metadata": {}
        }
      ],
      "source": [
        "sns.countplot(train['target'], edgecolor = 'black')"
      ]
    },
    {
      "cell_type": "markdown",
      "metadata": {
        "id": "mTj5oXd3X_Bx"
      },
      "source": [
        "We see that the target is **skewed** and thus the best metric for this binary classification problem would be Area Under the ROC Curve (AUC). We can use precision and recall too, but AUC combines these two metrics. Thus, we will be using AUC to evaluate the model that we build on this dataset."
      ]
    },
    {
      "cell_type": "markdown",
      "metadata": {
        "id": "2mFO7SkIX_Bx"
      },
      "source": [
        "# Model <a id = \"5\"></a>\n",
        "\n",
        "[Extreme Gradient Boosting (XGBoost)](https://machinelearningmastery.com/extreme-gradient-boosting-ensemble-in-python/) Classifier"
      ]
    },
    {
      "cell_type": "code",
      "execution_count": null,
      "metadata": {
        "id": "Wc2QbXGQX_Bx",
        "outputId": "6949d75f-a552-4c1e-e7ac-53ae7f9cf7b0",
        "colab": {
          "base_uri": "https://localhost:8080/"
        }
      },
      "outputs": [
        {
          "output_type": "stream",
          "name": "stdout",
          "text": [
            "Train AUC Score 0.7925329482574122\n",
            "Test AUC Score 0.7754549997082166\n"
          ]
        }
      ],
      "source": [
        "from sklearn.model_selection import train_test_split\n",
        "\n",
        "X_train, X_val, y_train, y_val = train_test_split(X, Y, test_size = 0.2 ,random_state = 42)\n",
        "\n",
        "clf = XGBClassifier()\n",
        "\n",
        "clf.fit(X_train, y_train)\n",
        "\n",
        "y_train_pred = clf.predict_proba(X_train)\n",
        "y_train_pred_pos = y_train_pred[:,1]\n",
        "\n",
        "y_val_pred = clf.predict_proba(X_val)\n",
        "y_val_pred_pos = y_val_pred[:,1]\n",
        "\n",
        "auc_train = roc_auc_score(y_train, y_train_pred_pos)\n",
        "auc_test = roc_auc_score(y_val, y_val_pred_pos)\n",
        "\n",
        "print(f\"Train AUC Score {auc_train}\")\n",
        "print(f\"Test AUC Score {auc_test}\")\n",
        "\n",
        "fpr, tpr, _ = roc_curve(y_val, y_val_pred_pos)"
      ]
    },
    {
      "cell_type": "markdown",
      "metadata": {
        "id": "IQrrUyMbX_Bx"
      },
      "source": [
        "As we can see model is overfitting the data, we can do various things to resolve this problem like we can increase data set size in balanced manner and we can also tune hyperparameters of model "
      ]
    },
    {
      "cell_type": "markdown",
      "metadata": {
        "id": "uPMEY8S_X_Bx"
      },
      "source": [
        "Let's plot AUC Curve"
      ]
    },
    {
      "cell_type": "code",
      "execution_count": null,
      "metadata": {
        "id": "HFOTmqwBX_Bx"
      },
      "outputs": [],
      "source": [
        "def plot_auc_curve(fpr, tpr, auc):\n",
        "    plt.figure(figsize = (16,6))\n",
        "    plt.plot(fpr,tpr,'b+',linestyle = '-')\n",
        "    plt.fill_between(fpr, tpr, alpha = 0.5)\n",
        "    plt.ylabel('True Postive Rate')\n",
        "    plt.xlabel('False Postive Rate')\n",
        "    plt.title(f'ROC Curve Having AUC = {auc}')"
      ]
    },
    {
      "cell_type": "code",
      "execution_count": null,
      "metadata": {
        "id": "YQvwRaxcX_Bx",
        "outputId": "5ef435db-ab2b-4c51-b8e8-317d654875ce",
        "colab": {
          "base_uri": "https://localhost:8080/",
          "height": 361
        }
      },
      "outputs": [
        {
          "output_type": "display_data",
          "data": {
            "text/plain": [
              "<Figure size 1152x432 with 1 Axes>"
            ],
            "image/png": "[encoded data removed]"
          },
          "metadata": {}
        }
      ],
      "source": [
        "plot_auc_curve(fpr, tpr, auc_test)"
      ]
    },
    {
      "cell_type": "markdown",
      "metadata": {
        "id": "CoiH8eUnX_Bx"
      },
      "source": [
        "# Learning Curve <a id = \"6\"></a>\n",
        "\n",
        "\n",
        "Training 3 examples will easily have 0 errors because we can always find any curve that exactly touches 3 points.\n",
        "\n",
        "* As the training set gets larger, the error for a function increases. \n",
        "* The error value will plateau out after a certain m, or training set size.\n",
        "\n",
        "\n",
        "**With high bias**\n",
        "\n",
        "\n",
        "* Low training set size: causes training cost to be low and cross validation cost to be high\n",
        "* Large training set size: causes both training cost and cross validation cost to be high with training cost = cross validation cost\n",
        "\n",
        "\n",
        "![img1](https://www.dataquest.io/wp-content/uploads/2019/01/low_high_var.png)\n",
        "\n",
        "**If a learning algorithm is suffering from high bias, getting more training data will not (by itself) help much.**\n",
        "\n",
        "\n",
        "For high variance, we have the following relationships in terms of the training set size:\n",
        "\n",
        "\n",
        "**With high variance**\n",
        "\n",
        "\n",
        "* Low training set size: training cost will be low and cross validation cost will be high\n",
        "* Large training set size: training cost increases with training set size and cross validation cost decreases without leveling off. Also, training cost < cross   validation cost but the difference between them remains significant.\n",
        "\n",
        "**If a learning algorithm is suffering from high variance, getting more training data is likely to help.**\n",
        "\n",
        "You can visit below given link for more detailed intuition\n",
        "\n",
        "[Learning Curves for machine learning](https://www.dataquest.io/blog/learning-curves-machine-learning/)"
      ]
    },
    {
      "cell_type": "code",
      "execution_count": null,
      "metadata": {
        "id": "RZt13YqyX_By"
      },
      "outputs": [],
      "source": [
        "# funtion to plot learning curves\n",
        "\n",
        "def plot_learning_cuve(model, X, Y):\n",
        "    \n",
        "    x_train, x_test, y_train, y_test = train_test_split(X, Y, test_size = 0.2, random_state = 11)\n",
        "    train_loss, test_loss = [], []\n",
        "    \n",
        "    for m in range(200,len(x_train),200):\n",
        "        \n",
        "        model.fit(x_train.iloc[:m,:], y_train[:m])\n",
        "        y_train_prob_pred = model.predict_proba(x_train.iloc[:m,:])\n",
        "        train_loss.append(log_loss(y_train[:m], y_train_prob_pred))\n",
        "        \n",
        "        y_test_prob_pred = model.predict_proba(x_test)\n",
        "        test_loss.append(log_loss(y_test, y_test_prob_pred))\n",
        "        \n",
        "    plt.figure(figsize = (15,8))\n",
        "    plt.plot(train_loss, 'r-+', label = 'Training Loss')\n",
        "    plt.plot(test_loss, 'b-', label = 'Test Loss')\n",
        "    plt.xlabel('Number Of Batches')\n",
        "    plt.ylabel('Log-Loss')\n",
        "    plt.legend(loc = 'best')\n",
        "\n",
        "\n",
        "\n",
        "    plt.show()\n",
        "        "
      ]
    },
    {
      "cell_type": "code",
      "execution_count": null,
      "metadata": {
        "id": "jbM1uls5X_By",
        "outputId": "0bb4e112-5123-4e4d-807d-20e417862378",
        "colab": {
          "base_uri": "https://localhost:8080/",
          "height": 470
        }
      },
      "outputs": [
        {
          "output_type": "display_data",
          "data": {
            "text/plain": [
              "<Figure size 1080x576 with 1 Axes>"
            ],
            "image/png": "[encoded data removed]"
          },
          "metadata": {}
        }
      ],
      "source": [
        "plot_learning_cuve(XGBClassifier(), X, Y)"
      ]
    },
    {
      "cell_type": "markdown",
      "metadata": {
        "id": "V0aMQb9zX_By"
      },
      "source": [
        "It's a high variance problem "
      ]
    },
    {
      "cell_type": "code",
      "execution_count": null,
      "metadata": {
        "id": "KwP4ZmVpX_By",
        "outputId": "1bd22922-84a8-4668-bacd-5673c6fce83c",
        "colab": {
          "base_uri": "https://localhost:8080/",
          "height": 296
        }
      },
      "outputs": [
        {
          "output_type": "execute_result",
          "data": {
            "text/plain": [
              "<matplotlib.axes._subplots.AxesSubplot at 0x7fea4417a050>"
            ]
          },
          "metadata": {},
          "execution_count": 41
        },
        {
          "output_type": "display_data",
          "data": {
            "text/plain": [
              "<Figure size 432x288 with 1 Axes>"
            ],
            "image/png": "[encoded data removed]"
          },
          "metadata": {}
        }
      ],
      "source": [
        "sns.countplot(Y, edgecolor = 'black')"
      ]
    },
    {
      "cell_type": "markdown",
      "metadata": {
        "id": "uviEJFtmX_By"
      },
      "source": [
        "Let's try to increase data in balanced manner using Synthetic Minority Oversampling Technique (SMOTE) "
      ]
    },
    {
      "cell_type": "markdown",
      "metadata": {
        "id": "vGekTlTcX_By"
      },
      "source": [
        "# Oversampling using SMOTE <a id = \"7\"></a>\n",
        "\n",
        "[SMOTE for Imbalanced Classification](https://machinelearningmastery.com/smote-oversampling-for-imbalanced-classification/)\\\n",
        "[SMOTE implementation](https://imbalanced-learn.org/stable/generated/imblearn.over_sampling.SMOTE.html)"
      ]
    },
    {
      "cell_type": "code",
      "execution_count": null,
      "metadata": {
        "id": "xkWyxgDTX_By"
      },
      "outputs": [],
      "source": [
        "from imblearn.over_sampling import SMOTE"
      ]
    },
    {
      "cell_type": "code",
      "execution_count": null,
      "metadata": {
        "id": "2xTPrbDHX_By",
        "outputId": "09d37ae1-3a6d-417a-df7d-0e4de15ce7ae",
        "colab": {
          "base_uri": "https://localhost:8080/",
          "height": 296
        }
      },
      "outputs": [
        {
          "output_type": "execute_result",
          "data": {
            "text/plain": [
              "<matplotlib.axes._subplots.AxesSubplot at 0x7faef9539c90>"
            ]
          },
          "metadata": {},
          "execution_count": 46
        },
        {
          "output_type": "display_data",
          "data": {
            "text/plain": [
              "<Figure size 432x288 with 1 Axes>"
            ],
            "image/png": "[encoded data removed]"
          },
          "metadata": {}
        }
      ],
      "source": [
        "smote = SMOTE(random_state = 402)\n",
        "X_smote, Y_smote = smote.fit_resample(X,Y)\n",
        "\n",
        "\n",
        "sns.countplot(Y_smote, edgecolor = 'black')"
      ]
    },
    {
      "cell_type": "code",
      "execution_count": null,
      "metadata": {
        "id": "c5T1RE9RX_By",
        "outputId": "83ee74c5-2e3b-4bab-df90-4d1ebf1128f3",
        "colab": {
          "base_uri": "https://localhost:8080/"
        }
      },
      "outputs": [
        {
          "output_type": "stream",
          "name": "stdout",
          "text": [
            "(28762, 12)\n"
          ]
        }
      ],
      "source": [
        "print(X_smote.shape)"
      ]
    },
    {
      "cell_type": "code",
      "execution_count": null,
      "metadata": {
        "id": "Wu2PgyLsX_By",
        "outputId": "83b61fca-52a3-4bac-88dc-aafb70d0b914",
        "colab": {
          "base_uri": "https://localhost:8080/"
        }
      },
      "outputs": [
        {
          "output_type": "stream",
          "name": "stdout",
          "text": [
            "Train AUC Score 0.9195792412623405\n",
            "Test AUC Score 0.9169873603076146\n"
          ]
        }
      ],
      "source": [
        "X_train, X_val, y_train, y_val = train_test_split(X_smote, Y_smote, test_size = 0.2 ,random_state = 42)\n",
        "\n",
        "clf = XGBClassifier()\n",
        "\n",
        "clf.fit(X_train, y_train)\n",
        "\n",
        "y_train_pred = clf.predict_proba(X_train)\n",
        "y_train_pred_pos = y_train_pred[:,1]\n",
        "\n",
        "y_val_pred = clf.predict_proba(X_val)\n",
        "y_val_pred_pos = y_val_pred[:,1]\n",
        "\n",
        "auc_train = roc_auc_score(y_train, y_train_pred_pos)\n",
        "auc_test = roc_auc_score(y_val, y_val_pred_pos)\n",
        "\n",
        "print(f\"Train AUC Score {auc_train}\")\n",
        "print(f\"Test AUC Score {auc_test}\")"
      ]
    },
    {
      "cell_type": "code",
      "execution_count": null,
      "metadata": {
        "id": "b-ncovvFX_By",
        "outputId": "d976ad87-d99b-426e-bc2f-db6fa3c77c52",
        "colab": {
          "base_uri": "https://localhost:8080/",
          "height": 467
        }
      },
      "outputs": [
        {
          "output_type": "display_data",
          "data": {
            "text/plain": [
              "<Figure size 1080x576 with 1 Axes>"
            ],
            "image/png": "[encoded data removed]"
          },
          "metadata": {}
        }
      ],
      "source": [
        "plot_learning_cuve(XGBClassifier(), X_smote, Y_smote)"
      ]
    },
    {
      "cell_type": "markdown",
      "metadata": {
        "id": "Sh73_XKCX_Bz"
      },
      "source": [
        "# Hyperparameter Tunning <a id = \"8\"></a>\n",
        "\n",
        "The parameters that the model has here are known as hyper-parameters, i.e. the parameters that control the training/fitting process of the model.\n",
        "\n",
        "Let’s say there are three parameters a, b, c in the model, and\n",
        "all these parameters can be integers between 1 and 10. A “correct” combination of\n",
        "these parameters will provide you with the best result. So, it’s kind of like a suitcase\n",
        "with a 3-dial combination lock. However, in 3 dial combination lock has only one\n",
        "correct answer. The model has many right answers. So, how would you find the\n",
        "best parameters? A method would be to evaluate all the combinations and see which\n",
        "one improves the metric. We go through all the parameters from 1 to 10. So, we have a\n",
        "total of 1000 (10 x 10 x 10) fits for the model. Well, that might be expensive because\n",
        "the model can take a long time to train. Let's visit some efficient methods\n",
        "\n",
        "* [Random Search](https://machinelearningmastery.com/hyperparameter-optimization-with-random-search-and-grid-search/) : Define a search space as a bounded domain of hyperparameter values and randomly sample points in that domain.\\\n",
        "   [Scikit-Learn User Guide for Random Search](https://scikit-learn.org/stable/modules/generated/sklearn.model_selection.RandomizedSearchCV.html)\n",
        "   \n",
        "   \n",
        "* [Grid Search](https://machinelearningmastery.com/hyperparameter-optimization-with-random-search-and-grid-search/) : Define a search space as a grid of hyperparameter values and evaluate every position in the grid.\\\n",
        "   [Scikit-Learn User Guide for Grid Search](https://scikit-learn.org/stable/modules/generated/sklearn.model_selection.GridSearchCV.html)\n",
        "   \n",
        "   \n",
        "Visit below given link for deep intuition of Random search and Grid search\n",
        "\n",
        "[Hyperparameter Optimization With Random Search and Grid Search](https://machinelearningmastery.com/hyperparameter-optimization-with-random-search-and-grid-search/)\n",
        "\n",
        "In this notebook i am using **Bayesian optimization with gaussian process**\n",
        "\n",
        "[Hyperparameter Tuning With Bayesian Optimization](https://machinelearningmastery.com/what-is-bayesian-optimization/)\n"
      ]
    },
    {
      "cell_type": "markdown",
      "metadata": {
        "id": "FE53p7F9X_Bz"
      },
      "source": [
        "Bayesian optimization algorithm need a function they can optimize. Most of the time, it’s about the minimization of this function, like we minimize loss."
      ]
    },
    {
      "cell_type": "code",
      "execution_count": null,
      "metadata": {
        "id": "Oml9CF6ZX_Bz"
      },
      "outputs": [],
      "source": [
        "def optimize(params, param_names, x, y):\n",
        "   \n",
        "\n",
        "    # convert params to dictionary\n",
        "    params = dict(zip(param_names, params))\n",
        "\n",
        "    # initialize model with current parameters\n",
        "    clf = XGBClassifier(tree_method = 'hist', **params)\n",
        "    \n",
        "    # initialize stratified k fold\n",
        "    kf = StratifiedKFold(n_splits = 5)\n",
        "    \n",
        "    i = 0\n",
        "    \n",
        "    # initialize auc scores list\n",
        "    auc_scores = []\n",
        "    \n",
        "    #loop over all folds\n",
        "    for index in kf.split(X = x, y = y):\n",
        "        train_index, test_index = index[0], index[1]\n",
        "        \n",
        "        \n",
        "        \n",
        "        x_train = x.iloc[train_index,:]\n",
        "        y_train = y[train_index]\n",
        "\n",
        "        smote = SMOTE(random_state = 446)\n",
        "        x_train, y_train = smote.fit_resample(x_train,y_train)\n",
        "        \n",
        "        x_test = x.iloc[test_index,:]\n",
        "        y_test = y[test_index]\n",
        "        \n",
        "        #fit model\n",
        "        clf.fit(x_train, y_train)\n",
        "        \n",
        "        y_pred = clf.predict_proba(x_test)\n",
        "        y_pred_pos = y_pred[:,1]\n",
        "        \n",
        "        auc = roc_auc_score(y_test, y_pred_pos)\n",
        "        print(f'Current parameters of fold number {i} -> {params}')\n",
        "        print(f'AUC score of test {i} f {auc}')\n",
        "\n",
        "        i = i+1\n",
        "        auc_scores.append(auc)\n",
        "        \n",
        "    return -1 * np.mean(auc_scores)\n",
        "    \n",
        "    "
      ]
    },
    {
      "cell_type": "markdown",
      "metadata": {
        "id": "S2JkSHOLX_B0"
      },
      "source": [
        "So, let’s say, you want to find the best parameters for best accuracy and obviously, the more the accuracy is better. Now we cannot minimize the accuracy, but we can minimize it when we multiply it by -1. This way, we are minimizing the negative of accuracy, but in fact, we are maximizing accuracy. Using Bayesian optimization with gaussian process can be accomplished by using [gp_minimize function from scikit-optimize (skopt) library](https://scikit-optimize.github.io/stable/modules/generated/skopt.gp_minimize.html). Let’s take a look at how we can tune the parameters of our xgboost model using this\n",
        "function.\n",
        "\n",
        "[Parameters for XGBoost Classifier](https://xgboost.readthedocs.io/en/latest/parameter.html)\n",
        "\n",
        "I am try to optimize the model with 4 hyperparameters but you can try many more given in above mentioned link"
      ]
    },
    {
      "cell_type": "code",
      "execution_count": null,
      "metadata": {
        "id": "eX2F0tffX_B0"
      },
      "outputs": [],
      "source": [
        "#define a parameter space\n",
        "\n",
        "param_spaces = [space.Integer(100, 2000, name = 'n_estimators'),\n",
        "                space.Real(0.01,100, name = 'min_child_weight'),\n",
        "                space.Real(0.01,1000, name = 'gamma'),\n",
        "                space.Real(0.1, 1, prior = 'uniform', name = 'colsample_bytree'),\n",
        "]\n",
        "\n",
        "# make a list of param names this has to be same order as the search space inside the main function\n",
        "param_names = ['n_estimators' ,'min_child_weight', 'gamma', 'colsample_bytree']\n",
        "\n",
        "# by using functools partial, i am creating a new function which has same parameters as the optimize function except \n",
        "# for the fact that only one param, i.e. the \"params\" parameter is required. \n",
        "# This is how gp_minimize expects the optimization function to be. \n",
        "# You can get rid of this by reading data inside the optimize function or by defining the optimize function here.\n",
        "\n",
        "optimize_function = partial(optimize, param_names = param_names, x = X, y = Y)"
      ]
    },
    {
      "cell_type": "code",
      "execution_count": null,
      "metadata": {
        "id": "0hQSNknRX_B0"
      },
      "outputs": [],
      "source": [
        "# output of this cell is very large that's why it is hidden\n",
        "\n",
        "result = gp_minimize(optimize_function, dimensions = param_spaces, n_calls = 20, n_random_starts = 5, verbose = 10)"
      ]
    },
    {
      "cell_type": "code",
      "execution_count": null,
      "metadata": {
        "id": "rrPZumXiX_B0",
        "outputId": "9525895c-3f32-4d9f-c41b-d3aab01e9e2c",
        "colab": {
          "base_uri": "https://localhost:8080/"
        }
      },
      "outputs": [
        {
          "output_type": "stream",
          "name": "stdout",
          "text": [
            "Best Parameters : {'n_estimators': 1427, 'min_child_weight': 14.487371083304206, 'gamma': 2.087592593725312, 'colsample_bytree': 0.9653501230577264}\n",
            "Best AUC score : -0.7711802076389354\n"
          ]
        }
      ],
      "source": [
        "best_params = dict(zip(param_names, result.x))\n",
        "print(f'Best Parameters : {best_params}')\n",
        "print(f'Best AUC score : {result.fun}')"
      ]
    },
    {
      "cell_type": "markdown",
      "metadata": {
        "id": "f_WKPfriX_B0"
      },
      "source": [
        "let's again plot learning cuve with hyperparameters this time"
      ]
    },
    {
      "cell_type": "code",
      "execution_count": null,
      "metadata": {
        "id": "t7eZBXvDX_B0"
      },
      "outputs": [],
      "source": [
        "# splitting train and validation data\n",
        "\n",
        "X_train, X_val, y_train, y_val = train_test_split(X,Y, test_size = 0.2, random_state = 24)\n",
        "\n",
        "smote = SMOTE(random_state = 446)\n",
        "X_train, y_train = smote.fit_resample(X_train,y_train)"
      ]
    },
    {
      "cell_type": "code",
      "execution_count": null,
      "metadata": {
        "id": "TnSfux2ZX_B0",
        "outputId": "3b0e1807-a205-41cf-e389-c861fd1c86cd",
        "colab": {
          "base_uri": "https://localhost:8080/"
        }
      },
      "outputs": [
        {
          "output_type": "stream",
          "name": "stdout",
          "text": [
            "Train AUC Score 0.9321232324893449\n",
            "Test AUC Score 0.7765317651440233\n"
          ]
        }
      ],
      "source": [
        "# initialize model with best parameters\n",
        "clf = XGBClassifier(**best_params)\n",
        "\n",
        "# fit model\n",
        "clf.fit(X_train, y_train)\n",
        "\n",
        "# predicting probabilities of training data\n",
        "y_train_pred = clf.predict_proba(X_train)\n",
        "\n",
        "\n",
        "y_train_pred_pos = y_train_pred[:,1]\n",
        "\n",
        "y_val_pred = clf.predict_proba(X_val)\n",
        "y_val_pred_pos = y_val_pred[:,1]\n",
        "\n",
        "auc_train = roc_auc_score(y_train, y_train_pred_pos)\n",
        "auc_test = roc_auc_score(y_val, y_val_pred_pos)\n",
        "\n",
        "print(f\"Train AUC Score {auc_train}\")\n",
        "print(f\"Test AUC Score {auc_test}\")\n",
        "\n",
        "fpr, tpr, _ = roc_curve(y_val, y_val_pred_pos)"
      ]
    },
    {
      "cell_type": "code",
      "execution_count": null,
      "metadata": {
        "id": "axIuG1NoX_B0",
        "outputId": "774c5bfb-ee9b-4b51-c792-bd3a7ad90572",
        "colab": {
          "base_uri": "https://localhost:8080/",
          "height": 361
        }
      },
      "outputs": [
        {
          "output_type": "display_data",
          "data": {
            "text/plain": [
              "<Figure size 1152x432 with 1 Axes>"
            ],
            "image/png": "[encoded data removed]"
          },
          "metadata": {}
        }
      ],
      "source": [
        "plot_auc_curve(fpr, tpr, auc_test)"
      ]
    },
    {
      "cell_type": "markdown",
      "source": [
        "# LightGBM"
      ],
      "metadata": {
        "id": "Sv4KSaw3ONVl"
      }
    },
    {
      "cell_type": "code",
      "source": [
        "import lightgbm as ltb"
      ],
      "metadata": {
        "id": "Xh5YZCUAPY6Y"
      },
      "execution_count": null,
      "outputs": []
    },
    {
      "cell_type": "code",
      "source": [
        "X_train, X_val, y_train, y_val = train_test_split(X_smote, Y_smote, test_size = 0.2 ,random_state = 42)\n",
        "\n",
        "clf = ltb.LGBMClassifier()\n",
        "\n",
        "clf.fit(X_train, y_train)\n",
        "\n",
        "y_train_pred = clf.predict_proba(X_train)\n",
        "y_train_pred_pos = y_train_pred[:,1]\n",
        "\n",
        "y_val_pred = clf.predict_proba(X_val)\n",
        "y_val_pred_pos = y_val_pred[:,1]\n",
        "\n",
        "auc_train = roc_auc_score(y_train, y_train_pred_pos)\n",
        "auc_test = roc_auc_score(y_val, y_val_pred_pos)\n",
        "\n",
        "print(f\"Train AUC Score {auc_train}\")\n",
        "print(f\"Test AUC Score {auc_test}\")"
      ],
      "metadata": {
        "colab": {
          "base_uri": "https://localhost:8080/"
        },
        "id": "jQ1oQLWzORhy",
        "outputId": "62caeddd-8222-4ed5-b41f-175d626f6246"
      },
      "execution_count": null,
      "outputs": [
        {
          "output_type": "stream",
          "name": "stdout",
          "text": [
            "Train AUC Score 0.9474412883012104\n",
            "Test AUC Score 0.9250853732760373\n"
          ]
        }
      ]
    },
    {
      "cell_type": "markdown",
      "source": [
        "## Hyper-parameter tuning"
      ],
      "metadata": {
        "id": "vaqEburfP0fa"
      }
    },
    {
      "cell_type": "code",
      "source": [
        "def optimize(params, param_names, x, y):\n",
        "   \n",
        "\n",
        "    # convert params to dictionary\n",
        "    params = dict(zip(param_names, params))\n",
        "\n",
        "    # initialize model with current parameters\n",
        "    clf = ltb.LGBMClassifier(**params)\n",
        "    \n",
        "    # initialize stratified k fold\n",
        "    kf = StratifiedKFold(n_splits = 5)\n",
        "    \n",
        "    i = 0\n",
        "    \n",
        "    # initialize auc scores list\n",
        "    auc_scores = []\n",
        "    \n",
        "    #loop over all folds\n",
        "    for index in kf.split(X = x, y = y):\n",
        "        train_index, test_index = index[0], index[1]\n",
        "        \n",
        "        \n",
        "        \n",
        "        x_train = x.iloc[train_index,:]\n",
        "        y_train = y[train_index]\n",
        "\n",
        "        smote = SMOTE(random_state = 446)\n",
        "        x_train, y_train = smote.fit_resample(x_train,y_train)\n",
        "        \n",
        "        x_test = x.iloc[test_index,:]\n",
        "        y_test = y[test_index]\n",
        "        \n",
        "        #fit model\n",
        "        clf.fit(x_train, y_train)\n",
        "        \n",
        "        y_pred = clf.predict_proba(x_test)\n",
        "        y_pred_pos = y_pred[:,1]\n",
        "        \n",
        "        auc = roc_auc_score(y_test, y_pred_pos)\n",
        "        print(f'Current parameters of fold number {i} -> {params}')\n",
        "        print(f'AUC score of test {i} f {auc}')\n",
        "\n",
        "        i = i+1\n",
        "        auc_scores.append(auc)\n",
        "        \n",
        "    return -1 * np.mean(auc_scores)"
      ],
      "metadata": {
        "id": "TpAhytKERFnH"
      },
      "execution_count": null,
      "outputs": []
    },
    {
      "cell_type": "code",
      "execution_count": null,
      "metadata": {
        "id": "j6DWH4FKPxIO"
      },
      "outputs": [],
      "source": [
        "#define a parameter space\n",
        "\n",
        "param_spaces = [space.Integer(100, 200, name = 'n_estimators'),\n",
        "                space.Real(0.001,1, name = 'min_child_weight'),\n",
        "]\n",
        "\n",
        "# make a list of param names this has to be same order as the search space inside the main function\n",
        "param_names = ['n_estimators' ,'min_child_weight']\n",
        "\n",
        "# by using functools partial, i am creating a new function which has same parameters as the optimize function except \n",
        "# for the fact that only one param, i.e. the \"params\" parameter is required. \n",
        "# This is how gp_minimize expects the optimization function to be. \n",
        "# You can get rid of this by reading data inside the optimize function or by defining the optimize function here.\n",
        "\n",
        "optimize_function = partial(optimize, param_names = param_names, x = X, y = Y)"
      ]
    },
    {
      "cell_type": "code",
      "execution_count": null,
      "metadata": {
        "colab": {
          "base_uri": "https://localhost:8080/"
        },
        "id": "lCHqUfRjPxIP",
        "outputId": "dbda4867-7bf0-4947-aaa0-75ce0a133d6f"
      },
      "outputs": [
        {
          "output_type": "stream",
          "name": "stdout",
          "text": [
            "Iteration No: 1 started. Evaluating function at random point.\n",
            "Current parameters of fold number 0 -> {'n_estimators': 132, 'min_child_weight': 0.10158155878090312}\n",
            "AUC score of test 0 f 0.7714607907891597\n",
            "Current parameters of fold number 1 -> {'n_estimators': 132, 'min_child_weight': 0.10158155878090312}\n",
            "AUC score of test 1 f 0.7794303673162982\n",
            "Current parameters of fold number 2 -> {'n_estimators': 132, 'min_child_weight': 0.10158155878090312}\n",
            "AUC score of test 2 f 0.7547918406862878\n",
            "Current parameters of fold number 3 -> {'n_estimators': 132, 'min_child_weight': 0.10158155878090312}\n",
            "AUC score of test 3 f 0.773189748705663\n",
            "Current parameters of fold number 4 -> {'n_estimators': 132, 'min_child_weight': 0.10158155878090312}\n",
            "AUC score of test 4 f 0.7652101886710018\n",
            "Iteration No: 1 ended. Evaluation done at random point.\n",
            "Time taken: 3.2428\n",
            "Function value obtained: -0.7688\n",
            "Current minimum: -0.7688\n",
            "Iteration No: 2 started. Evaluating function at random point.\n",
            "Current parameters of fold number 0 -> {'n_estimators': 172, 'min_child_weight': 0.9532284548208497}\n",
            "AUC score of test 0 f 0.7705386083647092\n",
            "Current parameters of fold number 1 -> {'n_estimators': 172, 'min_child_weight': 0.9532284548208497}\n",
            "AUC score of test 1 f 0.7769664253583254\n",
            "Current parameters of fold number 2 -> {'n_estimators': 172, 'min_child_weight': 0.9532284548208497}\n",
            "AUC score of test 2 f 0.7536540935784257\n",
            "Current parameters of fold number 3 -> {'n_estimators': 172, 'min_child_weight': 0.9532284548208497}\n",
            "AUC score of test 3 f 0.7701962076473287\n",
            "Current parameters of fold number 4 -> {'n_estimators': 172, 'min_child_weight': 0.9532284548208497}\n",
            "AUC score of test 4 f 0.7636402362210457\n",
            "Iteration No: 2 ended. Evaluation done at random point.\n",
            "Time taken: 3.9278\n",
            "Function value obtained: -0.7670\n",
            "Current minimum: -0.7688\n",
            "Iteration No: 3 started. Evaluating function at random point.\n",
            "Current parameters of fold number 0 -> {'n_estimators': 193, 'min_child_weight': 0.9491582661091272}\n",
            "AUC score of test 0 f 0.7709530539859523\n",
            "Current parameters of fold number 1 -> {'n_estimators': 193, 'min_child_weight': 0.9491582661091272}\n",
            "AUC score of test 1 f 0.7763688526021149\n",
            "Current parameters of fold number 2 -> {'n_estimators': 193, 'min_child_weight': 0.9491582661091272}\n",
            "AUC score of test 2 f 0.7524624800048043\n",
            "Current parameters of fold number 3 -> {'n_estimators': 193, 'min_child_weight': 0.9491582661091272}\n",
            "AUC score of test 3 f 0.7688922223274036\n",
            "Current parameters of fold number 4 -> {'n_estimators': 193, 'min_child_weight': 0.9491582661091272}\n",
            "AUC score of test 4 f 0.7615818581654274\n",
            "Iteration No: 3 ended. Evaluation done at random point.\n",
            "Time taken: 4.1956\n",
            "Function value obtained: -0.7661\n",
            "Current minimum: -0.7688\n",
            "Iteration No: 4 started. Evaluating function at random point.\n",
            "Current parameters of fold number 0 -> {'n_estimators': 112, 'min_child_weight': 0.7879361461497978}\n",
            "AUC score of test 0 f 0.7722738607200842\n",
            "Current parameters of fold number 1 -> {'n_estimators': 112, 'min_child_weight': 0.7879361461497978}\n",
            "AUC score of test 1 f 0.7783085090286951\n",
            "Current parameters of fold number 2 -> {'n_estimators': 112, 'min_child_weight': 0.7879361461497978}\n",
            "AUC score of test 2 f 0.7563523303615788\n",
            "Current parameters of fold number 3 -> {'n_estimators': 112, 'min_child_weight': 0.7879361461497978}\n",
            "AUC score of test 3 f 0.7754789592875504\n",
            "Current parameters of fold number 4 -> {'n_estimators': 112, 'min_child_weight': 0.7879361461497978}\n",
            "AUC score of test 4 f 0.7671311230694172\n",
            "Iteration No: 4 ended. Evaluation done at random point.\n",
            "Time taken: 2.9342\n",
            "Function value obtained: -0.7699\n",
            "Current minimum: -0.7699\n",
            "Iteration No: 5 started. Evaluating function at random point.\n",
            "Current parameters of fold number 0 -> {'n_estimators': 126, 'min_child_weight': 0.9894405805383663}\n",
            "AUC score of test 0 f 0.7741780555862687\n",
            "Current parameters of fold number 1 -> {'n_estimators': 126, 'min_child_weight': 0.9894405805383663}\n",
            "AUC score of test 1 f 0.7780031759009782\n",
            "Current parameters of fold number 2 -> {'n_estimators': 126, 'min_child_weight': 0.9894405805383663}\n",
            "AUC score of test 2 f 0.7556032953174391\n",
            "Current parameters of fold number 3 -> {'n_estimators': 126, 'min_child_weight': 0.9894405805383663}\n",
            "AUC score of test 3 f 0.7746958035083631\n",
            "Current parameters of fold number 4 -> {'n_estimators': 126, 'min_child_weight': 0.9894405805383663}\n",
            "AUC score of test 4 f 0.7691519999417458\n",
            "Iteration No: 5 ended. Evaluation done at random point.\n",
            "Time taken: 3.3527\n",
            "Function value obtained: -0.7703\n",
            "Current minimum: -0.7703\n",
            "Iteration No: 6 started. Searching for the next optimal point.\n",
            "Current parameters of fold number 0 -> {'n_estimators': 198, 'min_child_weight': 0.005554466893513481}\n",
            "AUC score of test 0 f 0.7682223319813084\n",
            "Current parameters of fold number 1 -> {'n_estimators': 198, 'min_child_weight': 0.005554466893513481}\n",
            "AUC score of test 1 f 0.7763175697301576\n",
            "Current parameters of fold number 2 -> {'n_estimators': 198, 'min_child_weight': 0.005554466893513481}\n",
            "AUC score of test 2 f 0.7504630514260966\n",
            "Current parameters of fold number 3 -> {'n_estimators': 198, 'min_child_weight': 0.005554466893513481}\n",
            "AUC score of test 3 f 0.7695199120360594\n",
            "Current parameters of fold number 4 -> {'n_estimators': 198, 'min_child_weight': 0.005554466893513481}\n",
            "AUC score of test 4 f 0.7591783235878802\n",
            "Iteration No: 6 ended. Search finished for the next optimal point.\n",
            "Time taken: 4.5418\n",
            "Function value obtained: -0.7647\n",
            "Current minimum: -0.7703\n",
            "Iteration No: 7 started. Searching for the next optimal point.\n",
            "Current parameters of fold number 0 -> {'n_estimators': 101, 'min_child_weight': 0.008464213840509244}\n",
            "AUC score of test 0 f 0.7719117890957339\n",
            "Current parameters of fold number 1 -> {'n_estimators': 101, 'min_child_weight': 0.008464213840509244}\n",
            "AUC score of test 1 f 0.7789577283651747\n",
            "Current parameters of fold number 2 -> {'n_estimators': 101, 'min_child_weight': 0.008464213840509244}\n",
            "AUC score of test 2 f 0.7561392302554836\n",
            "Current parameters of fold number 3 -> {'n_estimators': 101, 'min_child_weight': 0.008464213840509244}\n",
            "AUC score of test 3 f 0.7749053368188803\n",
            "Current parameters of fold number 4 -> {'n_estimators': 101, 'min_child_weight': 0.008464213840509244}\n",
            "AUC score of test 4 f 0.7694248847657814\n",
            "Iteration No: 7 ended. Search finished for the next optimal point.\n",
            "Time taken: 2.9923\n",
            "Function value obtained: -0.7703\n",
            "Current minimum: -0.7703\n",
            "Iteration No: 8 started. Searching for the next optimal point.\n",
            "Current parameters of fold number 0 -> {'n_estimators': 100, 'min_child_weight': 1.0}\n",
            "AUC score of test 0 f 0.7733200676788426\n",
            "Current parameters of fold number 1 -> {'n_estimators': 100, 'min_child_weight': 1.0}\n",
            "AUC score of test 1 f 0.777918068156028\n",
            "Current parameters of fold number 2 -> {'n_estimators': 100, 'min_child_weight': 1.0}\n",
            "AUC score of test 2 f 0.756481719068183\n",
            "Current parameters of fold number 3 -> {'n_estimators': 100, 'min_child_weight': 1.0}\n",
            "AUC score of test 3 f 0.7759684771606871\n",
            "Current parameters of fold number 4 -> {'n_estimators': 100, 'min_child_weight': 1.0}\n",
            "AUC score of test 4 f 0.7706007107020367\n",
            "Iteration No: 8 ended. Search finished for the next optimal point.\n",
            "Time taken: 2.9220\n",
            "Function value obtained: -0.7709\n",
            "Current minimum: -0.7709\n",
            "Iteration No: 9 started. Searching for the next optimal point.\n",
            "Current parameters of fold number 0 -> {'n_estimators': 100, 'min_child_weight': 0.0011196240433581537}\n",
            "AUC score of test 0 f 0.7719285196780745\n",
            "Current parameters of fold number 1 -> {'n_estimators': 100, 'min_child_weight': 0.0011196240433581537}\n",
            "AUC score of test 1 f 0.7790864811075355\n",
            "Current parameters of fold number 2 -> {'n_estimators': 100, 'min_child_weight': 0.0011196240433581537}\n",
            "AUC score of test 2 f 0.756481719068183\n",
            "Current parameters of fold number 3 -> {'n_estimators': 100, 'min_child_weight': 0.0011196240433581537}\n",
            "AUC score of test 3 f 0.7747262049530688\n",
            "Current parameters of fold number 4 -> {'n_estimators': 100, 'min_child_weight': 0.0011196240433581537}\n",
            "AUC score of test 4 f 0.7695231888384828\n",
            "Iteration No: 9 ended. Search finished for the next optimal point.\n",
            "Time taken: 2.9300\n",
            "Function value obtained: -0.7703\n",
            "Current minimum: -0.7709\n",
            "Iteration No: 10 started. Searching for the next optimal point.\n",
            "Current parameters of fold number 0 -> {'n_estimators': 155, 'min_child_weight': 0.9539815383365746}\n",
            "AUC score of test 0 f 0.7702856492338849\n",
            "Current parameters of fold number 1 -> {'n_estimators': 155, 'min_child_weight': 0.9539815383365746}\n",
            "AUC score of test 1 f 0.7764612345133001\n",
            "Current parameters of fold number 2 -> {'n_estimators': 155, 'min_child_weight': 0.9539815383365746}\n",
            "AUC score of test 2 f 0.754515411086665\n",
            "Current parameters of fold number 3 -> {'n_estimators': 155, 'min_child_weight': 0.9539815383365746}\n",
            "AUC score of test 3 f 0.7715047440817309\n",
            "Current parameters of fold number 4 -> {'n_estimators': 155, 'min_child_weight': 0.9539815383365746}\n",
            "AUC score of test 4 f 0.7646729751181469\n",
            "Iteration No: 10 ended. Search finished for the next optimal point.\n",
            "Time taken: 3.8650\n",
            "Function value obtained: -0.7675\n",
            "Current minimum: -0.7709\n",
            "Iteration No: 11 started. Searching for the next optimal point.\n",
            "Current parameters of fold number 0 -> {'n_estimators': 100, 'min_child_weight': 0.9527459605150828}\n",
            "AUC score of test 0 f 0.771544443700863\n",
            "Current parameters of fold number 1 -> {'n_estimators': 100, 'min_child_weight': 0.9527459605150828}\n",
            "AUC score of test 1 f 0.777918068156028\n",
            "Current parameters of fold number 2 -> {'n_estimators': 100, 'min_child_weight': 0.9527459605150828}\n",
            "AUC score of test 2 f 0.756481719068183\n",
            "Current parameters of fold number 3 -> {'n_estimators': 100, 'min_child_weight': 0.9527459605150828}\n",
            "AUC score of test 3 f 0.7747291176663341\n",
            "Current parameters of fold number 4 -> {'n_estimators': 100, 'min_child_weight': 0.9527459605150828}\n",
            "AUC score of test 4 f 0.7706007107020367\n",
            "Iteration No: 11 ended. Search finished for the next optimal point.\n",
            "Time taken: 2.9498\n",
            "Function value obtained: -0.7703\n",
            "Current minimum: -0.7709\n",
            "Iteration No: 12 started. Searching for the next optimal point.\n",
            "Current parameters of fold number 0 -> {'n_estimators': 155, 'min_child_weight': 0.00160476603861623}\n",
            "AUC score of test 0 f 0.769846107739131\n",
            "Current parameters of fold number 1 -> {'n_estimators': 155, 'min_child_weight': 0.00160476603861623}\n",
            "AUC score of test 1 f 0.7780613692308588\n",
            "Current parameters of fold number 2 -> {'n_estimators': 155, 'min_child_weight': 0.00160476603861623}\n",
            "AUC score of test 2 f 0.7525338166756746\n",
            "Current parameters of fold number 3 -> {'n_estimators': 155, 'min_child_weight': 0.00160476603861623}\n",
            "AUC score of test 3 f 0.7723579870238624\n",
            "Current parameters of fold number 4 -> {'n_estimators': 155, 'min_child_weight': 0.00160476603861623}\n",
            "AUC score of test 4 f 0.7622066351608181\n",
            "Iteration No: 12 ended. Search finished for the next optimal point.\n",
            "Time taken: 3.9852\n",
            "Function value obtained: -0.7670\n",
            "Current minimum: -0.7709\n",
            "Iteration No: 13 started. Searching for the next optimal point.\n",
            "Current parameters of fold number 0 -> {'n_estimators': 100, 'min_child_weight': 1.0}\n",
            "AUC score of test 0 f 0.7733200676788426\n",
            "Current parameters of fold number 1 -> {'n_estimators': 100, 'min_child_weight': 1.0}\n",
            "AUC score of test 1 f 0.777918068156028\n",
            "Current parameters of fold number 2 -> {'n_estimators': 100, 'min_child_weight': 1.0}\n",
            "AUC score of test 2 f 0.756481719068183\n",
            "Current parameters of fold number 3 -> {'n_estimators': 100, 'min_child_weight': 1.0}\n",
            "AUC score of test 3 f 0.7759684771606871\n",
            "Current parameters of fold number 4 -> {'n_estimators': 100, 'min_child_weight': 1.0}\n",
            "AUC score of test 4 f 0.7706007107020367\n",
            "Iteration No: 13 ended. Search finished for the next optimal point.\n",
            "Time taken: 3.0102\n",
            "Function value obtained: -0.7709\n",
            "Current minimum: -0.7709\n",
            "Iteration No: 14 started. Searching for the next optimal point.\n",
            "Current parameters of fold number 0 -> {'n_estimators': 100, 'min_child_weight': 0.4443354946486835}\n",
            "AUC score of test 0 f 0.7719285196780745\n",
            "Current parameters of fold number 1 -> {'n_estimators': 100, 'min_child_weight': 0.4443354946486835}\n",
            "AUC score of test 1 f 0.7790864811075355\n",
            "Current parameters of fold number 2 -> {'n_estimators': 100, 'min_child_weight': 0.4443354946486835}\n",
            "AUC score of test 2 f 0.756481719068183\n",
            "Current parameters of fold number 3 -> {'n_estimators': 100, 'min_child_weight': 0.4443354946486835}\n",
            "AUC score of test 3 f 0.7747262049530688\n",
            "Current parameters of fold number 4 -> {'n_estimators': 100, 'min_child_weight': 0.4443354946486835}\n",
            "AUC score of test 4 f 0.7695231888384828\n",
            "Iteration No: 14 ended. Search finished for the next optimal point.\n",
            "Time taken: 2.9671\n",
            "Function value obtained: -0.7703\n",
            "Current minimum: -0.7709\n",
            "Iteration No: 15 started. Searching for the next optimal point.\n",
            "Current parameters of fold number 0 -> {'n_estimators': 166, 'min_child_weight': 0.6779661912105432}\n",
            "AUC score of test 0 f 0.7702630993185562\n",
            "Current parameters of fold number 1 -> {'n_estimators': 166, 'min_child_weight': 0.6779661912105432}\n",
            "AUC score of test 1 f 0.7774401554343842\n",
            "Current parameters of fold number 2 -> {'n_estimators': 166, 'min_child_weight': 0.6779661912105432}\n",
            "AUC score of test 2 f 0.7516885135221207\n",
            "Current parameters of fold number 3 -> {'n_estimators': 166, 'min_child_weight': 0.6779661912105432}\n",
            "AUC score of test 3 f 0.770950782427601\n",
            "Current parameters of fold number 4 -> {'n_estimators': 166, 'min_child_weight': 0.6779661912105432}\n",
            "AUC score of test 4 f 0.7614038185670908\n",
            "Iteration No: 15 ended. Search finished for the next optimal point.\n",
            "Time taken: 4.0770\n",
            "Function value obtained: -0.7663\n",
            "Current minimum: -0.7709\n",
            "Iteration No: 16 started. Searching for the next optimal point.\n",
            "Current parameters of fold number 0 -> {'n_estimators': 124, 'min_child_weight': 0.9760978774765764}\n",
            "AUC score of test 0 f 0.7707062778964276\n",
            "Current parameters of fold number 1 -> {'n_estimators': 124, 'min_child_weight': 0.9760978774765764}\n",
            "AUC score of test 1 f 0.7785618318678313\n",
            "Current parameters of fold number 2 -> {'n_estimators': 124, 'min_child_weight': 0.9760978774765764}\n",
            "AUC score of test 2 f 0.7555370541230594\n",
            "Current parameters of fold number 3 -> {'n_estimators': 124, 'min_child_weight': 0.9760978774765764}\n",
            "AUC score of test 3 f 0.7749595861034451\n",
            "Current parameters of fold number 4 -> {'n_estimators': 124, 'min_child_weight': 0.9760978774765764}\n",
            "AUC score of test 4 f 0.7690256610038667\n",
            "Iteration No: 16 ended. Search finished for the next optimal point.\n",
            "Time taken: 3.4202\n",
            "Function value obtained: -0.7698\n",
            "Current minimum: -0.7709\n",
            "Iteration No: 17 started. Searching for the next optimal point.\n",
            "Current parameters of fold number 0 -> {'n_estimators': 147, 'min_child_weight': 0.010895885202267242}\n",
            "AUC score of test 0 f 0.769921213505508\n",
            "Current parameters of fold number 1 -> {'n_estimators': 147, 'min_child_weight': 0.010895885202267242}\n",
            "AUC score of test 1 f 0.7787291376912377\n",
            "Current parameters of fold number 2 -> {'n_estimators': 147, 'min_child_weight': 0.010895885202267242}\n",
            "AUC score of test 2 f 0.7537749291637778\n",
            "Current parameters of fold number 3 -> {'n_estimators': 147, 'min_child_weight': 0.010895885202267242}\n",
            "AUC score of test 3 f 0.7728331233752521\n",
            "Current parameters of fold number 4 -> {'n_estimators': 147, 'min_child_weight': 0.010895885202267242}\n",
            "AUC score of test 4 f 0.7630374866197234\n",
            "Iteration No: 17 ended. Search finished for the next optimal point.\n",
            "Time taken: 3.9113\n",
            "Function value obtained: -0.7677\n",
            "Current minimum: -0.7709\n",
            "Iteration No: 18 started. Searching for the next optimal point.\n",
            "Current parameters of fold number 0 -> {'n_estimators': 116, 'min_child_weight': 0.6628589008714221}\n",
            "AUC score of test 0 f 0.7721434712903207\n",
            "Current parameters of fold number 1 -> {'n_estimators': 116, 'min_child_weight': 0.6628589008714221}\n",
            "AUC score of test 1 f 0.7786282086347263\n",
            "Current parameters of fold number 2 -> {'n_estimators': 116, 'min_child_weight': 0.6628589008714221}\n",
            "AUC score of test 2 f 0.7557907360597772\n",
            "Current parameters of fold number 3 -> {'n_estimators': 116, 'min_child_weight': 0.6628589008714221}\n",
            "AUC score of test 3 f 0.7746661302419736\n",
            "Current parameters of fold number 4 -> {'n_estimators': 116, 'min_child_weight': 0.6628589008714221}\n",
            "AUC score of test 4 f 0.7661739326726329\n",
            "Iteration No: 18 ended. Search finished for the next optimal point.\n",
            "Time taken: 3.3515\n",
            "Function value obtained: -0.7695\n",
            "Current minimum: -0.7709\n",
            "Iteration No: 19 started. Searching for the next optimal point.\n",
            "Current parameters of fold number 0 -> {'n_estimators': 100, 'min_child_weight': 1.0}\n",
            "AUC score of test 0 f 0.7733200676788426\n",
            "Current parameters of fold number 1 -> {'n_estimators': 100, 'min_child_weight': 1.0}\n",
            "AUC score of test 1 f 0.777918068156028\n",
            "Current parameters of fold number 2 -> {'n_estimators': 100, 'min_child_weight': 1.0}\n",
            "AUC score of test 2 f 0.756481719068183\n",
            "Current parameters of fold number 3 -> {'n_estimators': 100, 'min_child_weight': 1.0}\n",
            "AUC score of test 3 f 0.7759684771606871\n",
            "Current parameters of fold number 4 -> {'n_estimators': 100, 'min_child_weight': 1.0}\n",
            "AUC score of test 4 f 0.7706007107020367\n",
            "Iteration No: 19 ended. Search finished for the next optimal point.\n",
            "Time taken: 2.9863\n",
            "Function value obtained: -0.7709\n",
            "Current minimum: -0.7709\n",
            "Iteration No: 20 started. Searching for the next optimal point.\n",
            "Current parameters of fold number 0 -> {'n_estimators': 113, 'min_child_weight': 0.3111612116516871}\n",
            "AUC score of test 0 f 0.7724595338132343\n",
            "Current parameters of fold number 1 -> {'n_estimators': 113, 'min_child_weight': 0.3111612116516871}\n",
            "AUC score of test 1 f 0.7783274218609063\n",
            "Current parameters of fold number 2 -> {'n_estimators': 113, 'min_child_weight': 0.3111612116516871}\n",
            "AUC score of test 2 f 0.7562278551501619\n",
            "Current parameters of fold number 3 -> {'n_estimators': 113, 'min_child_weight': 0.3111612116516871}\n",
            "AUC score of test 3 f 0.775252131742021\n",
            "Current parameters of fold number 4 -> {'n_estimators': 113, 'min_child_weight': 0.3111612116516871}\n",
            "AUC score of test 4 f 0.7672436266192866\n",
            "Iteration No: 20 ended. Search finished for the next optimal point.\n",
            "Time taken: 3.2536\n",
            "Function value obtained: -0.7699\n",
            "Current minimum: -0.7709\n"
          ]
        }
      ],
      "source": [
        "# output of this cell is very large that's why it is hidden\n",
        "\n",
        "result = gp_minimize(optimize_function, dimensions = param_spaces, n_calls = 20, n_random_starts = 5, verbose = 10)"
      ]
    },
    {
      "cell_type": "code",
      "execution_count": null,
      "metadata": {
        "outputId": "e81b014e-2c2e-41e7-f448-03729c1c4804",
        "colab": {
          "base_uri": "https://localhost:8080/"
        },
        "id": "_oDhgvAcPxIP"
      },
      "outputs": [
        {
          "output_type": "stream",
          "name": "stdout",
          "text": [
            "Best Parameters : {'n_estimators': 100, 'min_child_weight': 1.0}\n",
            "Best AUC score : -0.7708578085531556\n"
          ]
        }
      ],
      "source": [
        "best_params = dict(zip(param_names, result.x))\n",
        "print(f'Best Parameters : {best_params}')\n",
        "print(f'Best AUC score : {result.fun}')"
      ]
    },
    {
      "cell_type": "markdown",
      "metadata": {
        "id": "ecXHLOo3PxIP"
      },
      "source": [
        "let's again plot learning cuve with hyperparameters this time"
      ]
    },
    {
      "cell_type": "code",
      "execution_count": null,
      "metadata": {
        "id": "AuKFLoHjPxIQ"
      },
      "outputs": [],
      "source": [
        "# splitting train and validation data\n",
        "\n",
        "X_train, X_val, y_train, y_val = train_test_split(X,Y, test_size = 0.2, random_state = 24)\n",
        "\n",
        "smote = SMOTE(random_state = 446)\n",
        "X_train, y_train = smote.fit_resample(X_train,y_train)"
      ]
    },
    {
      "cell_type": "code",
      "execution_count": null,
      "metadata": {
        "outputId": "f1401256-3d42-4898-f767-9ce9d0230938",
        "colab": {
          "base_uri": "https://localhost:8080/"
        },
        "id": "YQaBbiPXPxIQ"
      },
      "outputs": [
        {
          "output_type": "stream",
          "name": "stdout",
          "text": [
            "Train AUC Score 0.9483250738999687\n",
            "Test AUC Score 0.7814461966628167\n"
          ]
        }
      ],
      "source": [
        "# initialize model with best parameters\n",
        "clf = ltb.LGBMClassifier(**best_params)\n",
        "\n",
        "# fit model\n",
        "clf.fit(X_train, y_train)\n",
        "\n",
        "# predicting probabilities of training data\n",
        "y_train_pred = clf.predict_proba(X_train)\n",
        "\n",
        "\n",
        "y_train_pred_pos = y_train_pred[:,1]\n",
        "\n",
        "y_val_pred = clf.predict_proba(X_val)\n",
        "y_val_pred_pos = y_val_pred[:,1]\n",
        "\n",
        "auc_train = roc_auc_score(y_train, y_train_pred_pos)\n",
        "auc_test = roc_auc_score(y_val, y_val_pred_pos)\n",
        "\n",
        "print(f\"Train AUC Score {auc_train}\")\n",
        "print(f\"Test AUC Score {auc_test}\")\n",
        "\n",
        "fpr, tpr, _ = roc_curve(y_val, y_val_pred_pos)"
      ]
    },
    {
      "cell_type": "code",
      "source": [
        "plot_auc_curve(fpr, tpr, auc_test)"
      ],
      "metadata": {
        "colab": {
          "base_uri": "https://localhost:8080/",
          "height": 361
        },
        "id": "xtnjODyDm28K",
        "outputId": "6419bfdd-78cd-483e-f8e8-0f75abc3ae6d"
      },
      "execution_count": null,
      "outputs": [
        {
          "output_type": "display_data",
          "data": {
            "text/plain": [
              "<Figure size 1152x432 with 1 Axes>"
            ],
            "image/png": "[encoded data removed]"
          },
          "metadata": {}
        }
      ]
    },
    {
      "cell_type": "markdown",
      "source": [
        "# CatBoost"
      ],
      "metadata": {
        "id": "niQhAu7aZrJL"
      }
    },
    {
      "cell_type": "code",
      "source": [
        "!pip install catboost"
      ],
      "metadata": {
        "colab": {
          "base_uri": "https://localhost:8080/"
        },
        "id": "M3wrXXzTZ87R",
        "outputId": "427e8b74-fa79-48b6-eadb-43c06b90229e"
      },
      "execution_count": null,
      "outputs": [
        {
          "output_type": "stream",
          "name": "stdout",
          "text": [
            "Looking in indexes: https://pypi.org/simple, https://us-python.pkg.dev/colab-wheels/public/simple/\n",
            "Requirement already satisfied: catboost in /usr/local/lib/python3.7/dist-packages (1.0.6)\n",
            "Requirement already satisfied: pandas>=0.24.0 in /usr/local/lib/python3.7/dist-packages (from catboost) (1.3.5)\n",
            "Requirement already satisfied: scipy in /usr/local/lib/python3.7/dist-packages (from catboost) (1.7.3)\n",
            "Requirement already satisfied: plotly in /usr/local/lib/python3.7/dist-packages (from catboost) (5.5.0)\n",
            "Requirement already satisfied: six in /usr/local/lib/python3.7/dist-packages (from catboost) (1.15.0)\n",
            "Requirement already satisfied: numpy>=1.16.0 in /usr/local/lib/python3.7/dist-packages (from catboost) (1.21.6)\n",
            "Requirement already satisfied: matplotlib in /usr/local/lib/python3.7/dist-packages (from catboost) (3.2.2)\n",
            "Requirement already satisfied: graphviz in /usr/local/lib/python3.7/dist-packages (from catboost) (0.10.1)\n",
            "Requirement already satisfied: pytz>=2017.3 in /usr/local/lib/python3.7/dist-packages (from pandas>=0.24.0->catboost) (2022.2.1)\n",
            "Requirement already satisfied: python-dateutil>=2.7.3 in /usr/local/lib/python3.7/dist-packages (from pandas>=0.24.0->catboost) (2.8.2)\n",
            "Requirement already satisfied: pyparsing!=2.0.4,!=2.1.2,!=2.1.6,>=2.0.1 in /usr/local/lib/python3.7/dist-packages (from matplotlib->catboost) (3.0.9)\n",
            "Requirement already satisfied: cycler>=0.10 in /usr/local/lib/python3.7/dist-packages (from matplotlib->catboost) (0.11.0)\n",
            "Requirement already satisfied: kiwisolver>=1.0.1 in /usr/local/lib/python3.7/dist-packages (from matplotlib->catboost) (1.4.4)\n",
            "Requirement already satisfied: typing-extensions in /usr/local/lib/python3.7/dist-packages (from kiwisolver>=1.0.1->matplotlib->catboost) (4.1.1)\n",
            "Requirement already satisfied: tenacity>=6.2.0 in /usr/local/lib/python3.7/dist-packages (from plotly->catboost) (8.0.1)\n"
          ]
        }
      ]
    },
    {
      "cell_type": "code",
      "source": [
        "from catboost import CatBoostClassifier"
      ],
      "metadata": {
        "id": "5eQuDuYLZrJa"
      },
      "execution_count": null,
      "outputs": []
    },
    {
      "cell_type": "code",
      "source": [
        "X_train, X_val, y_train, y_val = train_test_split(X_smote, Y_smote, test_size = 0.2 ,random_state = 42)\n",
        "\n",
        "clf = CatBoostClassifier()\n",
        "\n",
        "clf.fit(X_train, y_train, verbose=0)\n",
        "\n",
        "y_train_pred = clf.predict_proba(X_train)\n",
        "y_train_pred_pos = y_train_pred[:,1]\n",
        "\n",
        "y_val_pred = clf.predict_proba(X_val)\n",
        "y_val_pred_pos = y_val_pred[:,1]\n",
        "\n",
        "auc_train = roc_auc_score(y_train, y_train_pred_pos)\n",
        "auc_test = roc_auc_score(y_val, y_val_pred_pos)\n",
        "\n",
        "print(f\"Train AUC Score {auc_train}\")\n",
        "print(f\"Test AUC Score {auc_test}\")"
      ],
      "metadata": {
        "colab": {
          "base_uri": "https://localhost:8080/"
        },
        "outputId": "2f49d57d-0314-4d31-b0b5-8d7bd8f519de",
        "id": "CnRsT-O8ZrJa"
      },
      "execution_count": null,
      "outputs": [
        {
          "output_type": "stream",
          "name": "stdout",
          "text": [
            "Train AUC Score 0.9578969074641914\n",
            "Test AUC Score 0.9253757318486311\n"
          ]
        }
      ]
    },
    {
      "cell_type": "markdown",
      "source": [
        "## Hyper-parameter tuning"
      ],
      "metadata": {
        "id": "FqNxNGDdZrJa"
      }
    },
    {
      "cell_type": "code",
      "source": [
        "def optimize(params, param_names, x, y):\n",
        "   \n",
        "\n",
        "    # convert params to dictionary\n",
        "    params = dict(zip(param_names, params))\n",
        "\n",
        "    # initialize model with current parameters\n",
        "    clf = CatBoostClassifier(**params)\n",
        "    \n",
        "    # initialize stratified k fold\n",
        "    kf = StratifiedKFold(n_splits = 5)\n",
        "    \n",
        "    i = 0\n",
        "    \n",
        "    # initialize auc scores list\n",
        "    auc_scores = []\n",
        "    \n",
        "    #loop over all folds\n",
        "    for index in kf.split(X = x, y = y):\n",
        "        train_index, test_index = index[0], index[1]\n",
        "        \n",
        "        \n",
        "        \n",
        "        x_train = x.iloc[train_index,:]\n",
        "        y_train = y[train_index]\n",
        "\n",
        "        smote = SMOTE(random_state = 446)\n",
        "        x_train, y_train = smote.fit_resample(x_train,y_train)\n",
        "        \n",
        "        x_test = x.iloc[test_index,:]\n",
        "        y_test = y[test_index]\n",
        "        \n",
        "        #fit model\n",
        "        clf.fit(x_train, y_train, verbose=0)\n",
        "        \n",
        "        y_pred = clf.predict_proba(x_test)\n",
        "        y_pred_pos = y_pred[:,1]\n",
        "        \n",
        "        auc = roc_auc_score(y_test, y_pred_pos)\n",
        "        print(f'Current parameters of fold number {i} -> {params}')\n",
        "        print(f'AUC score of test {i} f {auc}')\n",
        "\n",
        "        i = i+1\n",
        "        auc_scores.append(auc)\n",
        "        \n",
        "    return -1 * np.mean(auc_scores)"
      ],
      "metadata": {
        "id": "FVdADjlfZrJa"
      },
      "execution_count": null,
      "outputs": []
    },
    {
      "cell_type": "code",
      "execution_count": null,
      "metadata": {
        "id": "rdBSP4teZrJb"
      },
      "outputs": [],
      "source": [
        "#define a parameter space\n",
        "\n",
        "param_spaces = [space.Integer(100, 1000, name = 'n_estimators')]\n",
        "\n",
        "# make a list of param names this has to be same order as the search space inside the main function\n",
        "param_names = ['n_estimators']\n",
        "\n",
        "# by using functools partial, i am creating a new function which has same parameters as the optimize function except \n",
        "# for the fact that only one param, i.e. the \"params\" parameter is required. \n",
        "# This is how gp_minimize expects the optimization function to be. \n",
        "# You can get rid of this by reading data inside the optimize function or by defining the optimize function here.\n",
        "\n",
        "optimize_function = partial(optimize, param_names = param_names, x = X, y = Y)"
      ]
    },
    {
      "cell_type": "code",
      "execution_count": null,
      "metadata": {
        "colab": {
          "base_uri": "https://localhost:8080/"
        },
        "outputId": "be931e56-43a0-4ab0-cabe-fc25217a1447",
        "id": "yWtJxWhoZrJb"
      },
      "outputs": [
        {
          "output_type": "stream",
          "name": "stdout",
          "text": [
            "Iteration No: 1 started. Evaluating function at random point.\n",
            "Current parameters of fold number 0 -> {'n_estimators': 312}\n",
            "AUC score of test 0 f 0.7649178601148736\n",
            "Current parameters of fold number 1 -> {'n_estimators': 312}\n",
            "AUC score of test 1 f 0.7748761936906792\n",
            "Current parameters of fold number 2 -> {'n_estimators': 312}\n",
            "AUC score of test 2 f 0.7555714485893719\n",
            "Current parameters of fold number 3 -> {'n_estimators': 312}\n",
            "AUC score of test 3 f 0.7750304014447058\n",
            "Current parameters of fold number 4 -> {'n_estimators': 312}\n",
            "AUC score of test 4 f 0.7593059368378129\n",
            "Iteration No: 1 ended. Evaluation done at random point.\n",
            "Time taken: 20.6987\n",
            "Function value obtained: -0.7659\n",
            "Current minimum: -0.7659\n",
            "Iteration No: 2 started. Evaluating function at random point.\n",
            "Current parameters of fold number 0 -> {'n_estimators': 499}\n",
            "AUC score of test 0 f 0.7702240006750427\n",
            "Current parameters of fold number 1 -> {'n_estimators': 499}\n",
            "AUC score of test 1 f 0.7804518421098574\n",
            "Current parameters of fold number 2 -> {'n_estimators': 499}\n",
            "AUC score of test 2 f 0.7567514153595859\n",
            "Current parameters of fold number 3 -> {'n_estimators': 499}\n",
            "AUC score of test 3 f 0.7775102127008862\n",
            "Current parameters of fold number 4 -> {'n_estimators': 499}\n",
            "AUC score of test 4 f 0.7635650518098871\n",
            "Iteration No: 2 ended. Evaluation done at random point.\n",
            "Time taken: 29.8407\n",
            "Function value obtained: -0.7697\n",
            "Current minimum: -0.7697\n",
            "Iteration No: 3 started. Evaluating function at random point.\n",
            "Current parameters of fold number 0 -> {'n_estimators': 167}\n",
            "AUC score of test 0 f 0.7691805215286225\n",
            "Current parameters of fold number 1 -> {'n_estimators': 167}\n",
            "AUC score of test 1 f 0.7779195229892748\n",
            "Current parameters of fold number 2 -> {'n_estimators': 167}\n",
            "AUC score of test 2 f 0.7603965008635012\n",
            "Current parameters of fold number 3 -> {'n_estimators': 167}\n",
            "AUC score of test 3 f 0.7776940777257536\n",
            "Current parameters of fold number 4 -> {'n_estimators': 167}\n",
            "AUC score of test 4 f 0.7671908336913544\n",
            "Iteration No: 3 ended. Evaluation done at random point.\n",
            "Time taken: 5.0688\n",
            "Function value obtained: -0.7705\n",
            "Current minimum: -0.7705\n",
            "Iteration No: 4 started. Evaluating function at random point.\n",
            "Current parameters of fold number 0 -> {'n_estimators': 228}\n",
            "AUC score of test 0 f 0.7672446840393154\n",
            "Current parameters of fold number 1 -> {'n_estimators': 228}\n",
            "AUC score of test 1 f 0.7772482992999342\n",
            "Current parameters of fold number 2 -> {'n_estimators': 228}\n",
            "AUC score of test 2 f 0.7573863481265936\n",
            "Current parameters of fold number 3 -> {'n_estimators': 228}\n",
            "AUC score of test 3 f 0.7759295196207648\n",
            "Current parameters of fold number 4 -> {'n_estimators': 228}\n",
            "AUC score of test 4 f 0.7615214193651741\n",
            "Iteration No: 4 ended. Evaluation done at random point.\n",
            "Time taken: 16.2064\n",
            "Function value obtained: -0.7679\n",
            "Current minimum: -0.7705\n",
            "Iteration No: 5 started. Evaluating function at random point.\n",
            "Current parameters of fold number 0 -> {'n_estimators': 135}\n",
            "AUC score of test 0 f 0.7692281673174621\n",
            "Current parameters of fold number 1 -> {'n_estimators': 135}\n",
            "AUC score of test 1 f 0.7771408234938111\n",
            "Current parameters of fold number 2 -> {'n_estimators': 135}\n",
            "AUC score of test 2 f 0.7596505595015168\n",
            "Current parameters of fold number 3 -> {'n_estimators': 135}\n",
            "AUC score of test 3 f 0.7770418119989222\n",
            "Current parameters of fold number 4 -> {'n_estimators': 135}\n",
            "AUC score of test 4 f 0.7705852369128152\n",
            "Iteration No: 5 ended. Evaluation done at random point.\n",
            "Time taken: 4.5783\n",
            "Function value obtained: -0.7707\n",
            "Current minimum: -0.7707\n"
          ]
        }
      ],
      "source": [
        "# output of this cell is very large that's why it is hidden\n",
        "\n",
        "result = gp_minimize(optimize_function, dimensions = param_spaces, n_calls = 5, n_random_starts = 5, verbose = 10)"
      ]
    },
    {
      "cell_type": "code",
      "execution_count": null,
      "metadata": {
        "outputId": "053c1506-bb8a-4540-8145-d7b0220279c6",
        "colab": {
          "base_uri": "https://localhost:8080/"
        },
        "id": "UNyjFTCVZrJb"
      },
      "outputs": [
        {
          "output_type": "stream",
          "name": "stdout",
          "text": [
            "Best Parameters : {'n_estimators': 135}\n",
            "Best AUC score : -0.7707293198449054\n"
          ]
        }
      ],
      "source": [
        "best_params = dict(zip(param_names, result.x))\n",
        "print(f'Best Parameters : {best_params}')\n",
        "print(f'Best AUC score : {result.fun}')"
      ]
    },
    {
      "cell_type": "markdown",
      "metadata": {
        "id": "nbrijyJ8ZrJb"
      },
      "source": [
        "let's again plot learning cuve with hyperparameters this time"
      ]
    },
    {
      "cell_type": "code",
      "execution_count": null,
      "metadata": {
        "id": "xDor84EWZrJb"
      },
      "outputs": [],
      "source": [
        "# splitting train and validation data\n",
        "\n",
        "X_train, X_val, y_train, y_val = train_test_split(X,Y, test_size = 0.2, random_state = 24)\n",
        "\n",
        "smote = SMOTE(random_state = 446)\n",
        "X_train, y_train = smote.fit_resample(X_train,y_train)"
      ]
    },
    {
      "cell_type": "code",
      "execution_count": null,
      "metadata": {
        "colab": {
          "base_uri": "https://localhost:8080/"
        },
        "id": "bGf1np8FZrJb",
        "outputId": "b99ad7e1-371a-4fd0-853c-c1545dacd860"
      },
      "outputs": [
        {
          "output_type": "stream",
          "name": "stdout",
          "text": [
            "Train AUC Score 0.9405664698079832\n",
            "Test AUC Score 0.7743642891113582\n"
          ]
        }
      ],
      "source": [
        "# initialize model with best parameters\n",
        "clf = CatBoostClassifier(**best_params)\n",
        "\n",
        "# fit model\n",
        "clf.fit(X_train, y_train, verbose=0)\n",
        "\n",
        "# predicting probabilities of training data\n",
        "y_train_pred = clf.predict_proba(X_train)\n",
        "\n",
        "\n",
        "y_train_pred_pos = y_train_pred[:,1]\n",
        "\n",
        "y_val_pred = clf.predict_proba(X_val)\n",
        "y_val_pred_pos = y_val_pred[:,1]\n",
        "\n",
        "auc_train = roc_auc_score(y_train, y_train_pred_pos)\n",
        "auc_test = roc_auc_score(y_val, y_val_pred_pos)\n",
        "\n",
        "print(f\"Train AUC Score {auc_train}\")\n",
        "print(f\"Test AUC Score {auc_test}\")\n",
        "\n",
        "fpr, tpr, _ = roc_curve(y_val, y_val_pred_pos)"
      ]
    },
    {
      "cell_type": "code",
      "source": [
        "plot_auc_curve(fpr, tpr, auc_test)"
      ],
      "metadata": {
        "colab": {
          "base_uri": "https://localhost:8080/",
          "height": 361
        },
        "id": "WsLOgH6Emzud",
        "outputId": "78be836b-c353-4e7f-cc7e-b36b63d956d7"
      },
      "execution_count": null,
      "outputs": [
        {
          "output_type": "display_data",
          "data": {
            "text/plain": [
              "<Figure size 1152x432 with 1 Axes>"
            ],
            "image/png": "[encoded data removed]"
          },
          "metadata": {}
        }
      ]
    },
    {
      "cell_type": "markdown",
      "source": [
        "# Random Forest"
      ],
      "metadata": {
        "id": "st0Fjhu1f7Z8"
      }
    },
    {
      "cell_type": "code",
      "source": [
        "from sklearn.ensemble import RandomForestClassifier"
      ],
      "metadata": {
        "id": "-WTjiQtif6U8"
      },
      "execution_count": null,
      "outputs": []
    },
    {
      "cell_type": "code",
      "source": [
        "X_train, X_val, y_train, y_val = train_test_split(X_smote, Y_smote, test_size = 0.2 ,random_state = 42)\n",
        "\n",
        "clf = RandomForestClassifier()\n",
        "\n",
        "clf.fit(X_train, y_train)\n",
        "\n",
        "y_train_pred = clf.predict_proba(X_train)\n",
        "y_train_pred_pos = y_train_pred[:,1]\n",
        "\n",
        "y_val_pred = clf.predict_proba(X_val)\n",
        "y_val_pred_pos = y_val_pred[:,1]\n",
        "\n",
        "auc_train = roc_auc_score(y_train, y_train_pred_pos)\n",
        "auc_test = roc_auc_score(y_val, y_val_pred_pos)\n",
        "\n",
        "print(f\"Train AUC Score {auc_train}\")\n",
        "print(f\"Test AUC Score {auc_test}\")"
      ],
      "metadata": {
        "colab": {
          "base_uri": "https://localhost:8080/"
        },
        "outputId": "d27c0d76-f02f-49fa-f721-0fa8d91ada33",
        "id": "SNETG2RegH-k"
      },
      "execution_count": null,
      "outputs": [
        {
          "output_type": "stream",
          "name": "stdout",
          "text": [
            "Train AUC Score 0.9999926711431626\n",
            "Test AUC Score 0.9203634358731159\n"
          ]
        }
      ]
    },
    {
      "cell_type": "markdown",
      "source": [
        "## Hyper-parameter tuning"
      ],
      "metadata": {
        "id": "pBQH5IHagH-l"
      }
    },
    {
      "cell_type": "code",
      "source": [
        "def optimize(params, param_names, x, y):\n",
        "   \n",
        "\n",
        "    # convert params to dictionary\n",
        "    params = dict(zip(param_names, params))\n",
        "\n",
        "    # initialize model with current parameters\n",
        "    clf = RandomForestClassifier(**params)\n",
        "    \n",
        "    # initialize stratified k fold\n",
        "    kf = StratifiedKFold(n_splits = 5)\n",
        "    \n",
        "    i = 0\n",
        "    \n",
        "    # initialize auc scores list\n",
        "    auc_scores = []\n",
        "    \n",
        "    #loop over all folds\n",
        "    for index in kf.split(X = x, y = y):\n",
        "        train_index, test_index = index[0], index[1]\n",
        "        \n",
        "        \n",
        "        \n",
        "        x_train = x.iloc[train_index,:]\n",
        "        y_train = y[train_index]\n",
        "\n",
        "        smote = SMOTE(random_state = 446)\n",
        "        x_train, y_train = smote.fit_resample(x_train,y_train)\n",
        "        \n",
        "        x_test = x.iloc[test_index,:]\n",
        "        y_test = y[test_index]\n",
        "        \n",
        "        #fit model\n",
        "        clf.fit(x_train, y_train)\n",
        "        \n",
        "        y_pred = clf.predict_proba(x_test)\n",
        "        y_pred_pos = y_pred[:,1]\n",
        "        \n",
        "        auc = roc_auc_score(y_test, y_pred_pos)\n",
        "        print(f'Current parameters of fold number {i} -> {params}')\n",
        "        print(f'AUC score of test {i} f {auc}')\n",
        "\n",
        "        i = i+1\n",
        "        auc_scores.append(auc)\n",
        "        \n",
        "    return -1 * np.mean(auc_scores)"
      ],
      "metadata": {
        "id": "Rp5t8ye3hVvV"
      },
      "execution_count": null,
      "outputs": []
    },
    {
      "cell_type": "code",
      "execution_count": null,
      "metadata": {
        "id": "aby2hk7HiqZa"
      },
      "outputs": [],
      "source": [
        "#define a parameter space\n",
        "\n",
        "param_spaces = [space.Integer(10, 200, name = 'n_estimators')]\n",
        "\n",
        "# make a list of param names this has to be same order as the search space inside the main function\n",
        "param_names = ['n_estimators']\n",
        "\n",
        "# by using functools partial, i am creating a new function which has same parameters as the optimize function except \n",
        "# for the fact that only one param, i.e. the \"params\" parameter is required. \n",
        "# This is how gp_minimize expects the optimization function to be. \n",
        "# You can get rid of this by reading data inside the optimize function or by defining the optimize function here.\n",
        "\n",
        "optimize_function = partial(optimize, param_names = param_names, x = X, y = Y)"
      ]
    },
    {
      "cell_type": "code",
      "execution_count": null,
      "metadata": {
        "colab": {
          "base_uri": "https://localhost:8080/"
        },
        "outputId": "ce20b179-4eb5-4140-88e0-a3b5b64e6b05",
        "id": "QSDTxCG0iqZb"
      },
      "outputs": [
        {
          "output_type": "stream",
          "name": "stdout",
          "text": [
            "Iteration No: 1 started. Evaluating function at random point.\n",
            "Current parameters of fold number 0 -> {'n_estimators': 86}\n",
            "AUC score of test 0 f 0.7370488925809323\n",
            "Current parameters of fold number 1 -> {'n_estimators': 86}\n",
            "AUC score of test 1 f 0.7529458554710459\n",
            "Current parameters of fold number 2 -> {'n_estimators': 86}\n",
            "AUC score of test 2 f 0.7333200486981968\n",
            "Current parameters of fold number 3 -> {'n_estimators': 86}\n",
            "AUC score of test 3 f 0.7434412979050311\n",
            "Current parameters of fold number 4 -> {'n_estimators': 86}\n",
            "AUC score of test 4 f 0.7434935446992259\n",
            "Iteration No: 1 ended. Evaluation done at random point.\n",
            "Time taken: 11.1658\n",
            "Function value obtained: -0.7420\n",
            "Current minimum: -0.7420\n",
            "Iteration No: 2 started. Evaluating function at random point.\n",
            "Current parameters of fold number 0 -> {'n_estimators': 183}\n",
            "AUC score of test 0 f 0.7410047660337172\n",
            "Current parameters of fold number 1 -> {'n_estimators': 183}\n",
            "AUC score of test 1 f 0.7523668318387348\n",
            "Current parameters of fold number 2 -> {'n_estimators': 183}\n",
            "AUC score of test 2 f 0.7426700660774112\n",
            "Current parameters of fold number 3 -> {'n_estimators': 183}\n",
            "AUC score of test 3 f 0.7423865316138617\n",
            "Current parameters of fold number 4 -> {'n_estimators': 183}\n",
            "AUC score of test 4 f 0.7418549614429583\n",
            "Iteration No: 2 ended. Evaluation done at random point.\n",
            "Time taken: 23.1275\n",
            "Function value obtained: -0.7441\n",
            "Current minimum: -0.7441\n",
            "Iteration No: 3 started. Evaluating function at random point.\n",
            "Current parameters of fold number 0 -> {'n_estimators': 174}\n",
            "AUC score of test 0 f 0.7393335263412109\n",
            "Current parameters of fold number 1 -> {'n_estimators': 174}\n",
            "AUC score of test 1 f 0.7541666424194458\n",
            "Current parameters of fold number 2 -> {'n_estimators': 174}\n",
            "AUC score of test 2 f 0.7407197724505784\n",
            "Current parameters of fold number 3 -> {'n_estimators': 174}\n",
            "AUC score of test 3 f 0.7461714204574416\n",
            "Current parameters of fold number 4 -> {'n_estimators': 174}\n",
            "AUC score of test 4 f 0.7412148927029251\n",
            "Iteration No: 3 ended. Evaluation done at random point.\n",
            "Time taken: 24.1584\n",
            "Function value obtained: -0.7443\n",
            "Current minimum: -0.7443\n",
            "Iteration No: 4 started. Searching for the next optimal point.\n",
            "Current parameters of fold number 0 -> {'n_estimators': 10}\n",
            "AUC score of test 0 f 0.7142763877654343\n",
            "Current parameters of fold number 1 -> {'n_estimators': 10}\n",
            "AUC score of test 1 f 0.7194619590202571\n",
            "Current parameters of fold number 2 -> {'n_estimators': 10}\n",
            "AUC score of test 2 f 0.7193467963101471\n",
            "Current parameters of fold number 3 -> {'n_estimators': 10}\n",
            "AUC score of test 3 f 0.7176424862920433\n",
            "Current parameters of fold number 4 -> {'n_estimators': 10}\n",
            "AUC score of test 4 f 0.7237659197984402\n",
            "Iteration No: 4 ended. Search finished for the next optimal point.\n",
            "Time taken: 1.8032\n",
            "Function value obtained: -0.7189\n",
            "Current minimum: -0.7443\n",
            "Iteration No: 5 started. Searching for the next optimal point.\n",
            "Current parameters of fold number 0 -> {'n_estimators': 125}\n",
            "AUC score of test 0 f 0.7377513951850838\n",
            "Current parameters of fold number 1 -> {'n_estimators': 125}\n",
            "AUC score of test 1 f 0.7514130067911615\n",
            "Current parameters of fold number 2 -> {'n_estimators': 125}\n",
            "AUC score of test 2 f 0.7373463850324017\n",
            "Current parameters of fold number 3 -> {'n_estimators': 125}\n",
            "AUC score of test 3 f 0.7446799292210676\n",
            "Current parameters of fold number 4 -> {'n_estimators': 125}\n",
            "AUC score of test 4 f 0.7436588411770275\n",
            "Iteration No: 5 ended. Search finished for the next optimal point.\n",
            "Time taken: 16.9917\n",
            "Function value obtained: -0.7430\n",
            "Current minimum: -0.7443\n"
          ]
        }
      ],
      "source": [
        "# output of this cell is very large that's why it is hidden\n",
        "\n",
        "result = gp_minimize(optimize_function, dimensions = param_spaces, n_calls = 5, n_random_starts = 3, verbose = 10)"
      ]
    },
    {
      "cell_type": "code",
      "execution_count": null,
      "metadata": {
        "outputId": "f6cb29e7-f59a-41c3-d903-c1fe5774b7d4",
        "colab": {
          "base_uri": "https://localhost:8080/"
        },
        "id": "nzqvyZwJgH-m"
      },
      "outputs": [
        {
          "output_type": "stream",
          "name": "stdout",
          "text": [
            "Best Parameters : {'n_estimators': 174}\n",
            "Best AUC score : -0.7443212508743204\n"
          ]
        }
      ],
      "source": [
        "best_params = dict(zip(param_names, result.x))\n",
        "print(f'Best Parameters : {best_params}')\n",
        "print(f'Best AUC score : {result.fun}')"
      ]
    },
    {
      "cell_type": "markdown",
      "metadata": {
        "id": "68P6djAlgH-m"
      },
      "source": [
        "let's again plot learning cuve with hyperparameters this time"
      ]
    },
    {
      "cell_type": "code",
      "execution_count": null,
      "metadata": {
        "id": "fdgQqjHHgH-m"
      },
      "outputs": [],
      "source": [
        "# splitting train and validation data\n",
        "\n",
        "X_train, X_val, y_train, y_val = train_test_split(X,Y, test_size = 0.2, random_state = 24)\n",
        "\n",
        "smote = SMOTE(random_state = 446)\n",
        "X_train, y_train = smote.fit_resample(X_train,y_train)"
      ]
    },
    {
      "cell_type": "code",
      "execution_count": null,
      "metadata": {
        "colab": {
          "base_uri": "https://localhost:8080/"
        },
        "outputId": "01321122-ded4-474d-efbe-f8114d14efca",
        "id": "ju3e-YkIgH-m"
      },
      "outputs": [
        {
          "output_type": "stream",
          "name": "stdout",
          "text": [
            "Train AUC Score 0.9999960114942483\n",
            "Test AUC Score 0.7568803299438099\n"
          ]
        }
      ],
      "source": [
        "# initialize model with best parameters\n",
        "clf = RandomForestClassifier(**best_params)\n",
        "\n",
        "# fit model\n",
        "clf.fit(X_train, y_train)\n",
        "\n",
        "# predicting probabilities of training data\n",
        "y_train_pred = clf.predict_proba(X_train)\n",
        "\n",
        "\n",
        "y_train_pred_pos = y_train_pred[:,1]\n",
        "\n",
        "y_val_pred = clf.predict_proba(X_val)\n",
        "y_val_pred_pos = y_val_pred[:,1]\n",
        "\n",
        "auc_train = roc_auc_score(y_train, y_train_pred_pos)\n",
        "auc_test = roc_auc_score(y_val, y_val_pred_pos)\n",
        "\n",
        "print(f\"Train AUC Score {auc_train}\")\n",
        "print(f\"Test AUC Score {auc_test}\")\n",
        "\n",
        "fpr, tpr, _ = roc_curve(y_val, y_val_pred_pos)"
      ]
    },
    {
      "cell_type": "code",
      "execution_count": null,
      "metadata": {
        "outputId": "314ff4c9-86b7-4709-e363-d931e1b513e1",
        "colab": {
          "base_uri": "https://localhost:8080/",
          "height": 361
        },
        "id": "Hpcy8-b9lRKR"
      },
      "outputs": [
        {
          "output_type": "display_data",
          "data": {
            "text/plain": [
              "<Figure size 1152x432 with 1 Axes>"
            ],
            "image/png": "[encoded data removed]"
          },
          "metadata": {}
        }
      ],
      "source": [
        "plot_auc_curve(fpr, tpr, auc_test)"
      ]
    },
    {
      "cell_type": "markdown",
      "source": [
        "# Summary"
      ],
      "metadata": {
        "id": "aVXXRIfud55F"
      }
    },
    {
      "cell_type": "code",
      "source": [
        "import numpy as np \n",
        "import matplotlib.pyplot as plt \n",
        "\n",
        "X_models = ['XGBoost','LightGBM','CatBoost','Random Forest']\n",
        "Ytrain = [0.932,0.948,0.940,1.0]\n",
        "Ztest = [0.777,0.781,0.776,0.754]\n",
        "  \n",
        "X_axis = np.arange(len(X_models))\n",
        "  \n",
        "plt.bar(X_axis - 0.2, Ytrain, 0.4, label = 'Train AUC')\n",
        "plt.bar(X_axis + 0.2, Ztest, 0.4, label = 'Test AUC')\n",
        "\n",
        "plt.ylim([0,1])\n",
        "# plt.xlim([-0.5,3])\n",
        "plt.xticks(X_axis, X_models)\n",
        "plt.xlabel(\"Model\")\n",
        "plt.ylabel(\"AUC\")\n",
        "plt.title(\"Model AUC\")\n",
        "plt.legend()\n",
        "plt.show()"
      ],
      "metadata": {
        "colab": {
          "base_uri": "https://localhost:8080/",
          "height": 295
        },
        "id": "jEkRPjwmd8St",
        "outputId": "6bb56804-5f31-46b7-e15b-bc97d70d9083"
      },
      "execution_count": null,
      "outputs": [
        {
          "output_type": "display_data",
          "data": {
            "text/plain": [
              "<Figure size 432x288 with 1 Axes>"
            ],
            "image/png": "[encoded data removed]"
          },
          "metadata": {}
        }
      ]
    },
    {
      "cell_type": "markdown",
      "metadata": {
        "id": "HJgyeNdsX_B0"
      },
      "source": [
        "# Reference <a id = \"9\" ></a>\n",
        "\n",
        "1. [Plots for missing values](https://towardsdatascience.com/working-with-missing-data-in-machine-learning-9c0a430df4ce)\n",
        "2. [To plot dendrogram](https://coderzcolumn.com/tutorials/data-science/missingno-visualize-missing-data-in-python)\n",
        "3. [Statistical Imputation for Missing Values in Machine Learning](https://machinelearningmastery.com/statistical-imputation-for-missing-values-in-machine-learning/)\n",
        "4. [K-Nearest Neighbor(KNN) Algorithm for Machine Learning](https://www.javatpoint.com/k-nearest-neighbor-algorithm-for-machine-learning)\n",
        "5. [Machine Learning Git repo](https://github.com/rachittoshniwal/machineLearning)\n",
        "6. [Joins in Pandas](https://www.analyticsvidhya.com/blog/2020/02/joins-in-pandas-master-the-different-types-of-joins-in-python/)\n",
        "7. [Handling Imbalanced Data with SMOTE](https://www.geeksforgeeks.org/ml-handling-imbalanced-data-with-smote-and-near-miss-algorithm-in-python)\n",
        "8. [Encoding Methodologies](https://www.datacamp.com/community/tutorials/encoding-methodologies)\n",
        "9. [Why Normalization is not required for tree based models](https://www.kaggle.com/c/m5-forecasting-accuracy/discussion/160613)\n",
        "10. [SMOTE](https://imbalanced-learn.org/stable/generated/imblearn.over_sampling.SMOTE.html)\n",
        "11. [Kaggle notebook for Categorical Encoding Methods](https://www.kaggle.com/arashnic/an-overview-of-categorical-encoding-methods)\n",
        "12. [Interpretation of Performance Measures](https://blog.exsilio.com/all/accuracy-precision-recall-f1-score-interpretation-of-performance-measures/)\n",
        "13. [How to Implement Bayesian Optimization from Scratch in Python](https://machinelearningmastery.com/what-is-bayesian-optimization/)\n",
        "\n",
        "## Books\n",
        "\n",
        "1. [Hands–On Machine Learning with Scikit–Learn and TensorFlow 2](https://www.amazon.in/Hands-Machine-Learning-Scikit-Learn-TensorFlow-dp-1492032646/dp/1492032646/ref=dp_ob_title_bk)\n",
        "2. [Approaching (Almost) Any Machine Learning Problem](https://github.com/abhishekkrthakur/approachingalmost)\n"
      ]
    }
  ],
  "metadata": {
    "colab": {
      "collapsed_sections": [
        "3yEvb9pfX_Bs"
      ],
      "provenance": []
    },
    "kernelspec": {
      "display_name": "Python 3",
      "language": "python",
      "name": "python3"
    },
    "language_info": {
      "codemirror_mode": {
        "name": "ipython",
        "version": 3
      },
      "file_extension": ".py",
      "mimetype": "text/x-python",
      "name": "python",
      "nbconvert_exporter": "python",
      "pygments_lexer": "ipython3",
      "version": "3.7.6"
    },
    "papermill": {
      "duration": 1662.102434,
      "end_time": "2022-06-20T18:06:34.057420",
      "environment_variables": {},
      "exception": null,
      "input_path": "__notebook__.ipynb",
      "output_path": "__notebook__.ipynb",
      "parameters": {},
      "start_time": "2022-06-20T17:38:51.954986",
      "version": "2.1.0"
    },
    "accelerator": "GPU",
    "gpuClass": "standard"
  },
  "nbformat": 4,
  "nbformat_minor": 0
}